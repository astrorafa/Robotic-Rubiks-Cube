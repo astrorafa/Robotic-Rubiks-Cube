{
  "nbformat": 4,
  "nbformat_minor": 0,
  "metadata": {
    "colab": {
      "name": "Rubik's Cube Solver.ipynb",
      "provenance": [],
      "collapsed_sections": [
        "a_DdNR2DfJcJ",
        "wLa0e8A5fUYg"
      ],
      "authorship_tag": "ABX9TyOLGktoEPW72fSHn7V/7+yN",
      "include_colab_link": true
    },
    "kernelspec": {
      "display_name": "Python 3",
      "name": "python3"
    },
    "language_info": {
      "name": "python"
    },
    "accelerator": "GPU"
  },
  "cells": [
    {
      "cell_type": "markdown",
      "metadata": {
        "id": "view-in-github",
        "colab_type": "text"
      },
      "source": [
        "<a href=\"https://colab.research.google.com/github/astrorafa/Rubiks-Cube-Solver/blob/main/%20Thistlethwaites%20Algorithm.ipynb\" target=\"_parent\"><img src=\"https://colab.research.google.com/assets/colab-badge.svg\" alt=\"Open In Colab\"/></a>"
      ]
    },
    {
      "cell_type": "markdown",
      "metadata": {
        "id": "a_DdNR2DfJcJ"
      },
      "source": [
        "# Initializing libraries\n"
      ]
    },
    {
      "cell_type": "code",
      "metadata": {
        "colab": {
          "base_uri": "https://localhost:8080/"
        },
        "id": "OfSk2-0Pd-KN",
        "outputId": "c3073fd9-c936-48e1-eb49-0a0d81f1fdc2"
      },
      "source": [
        "pip install permutation"
      ],
      "execution_count": null,
      "outputs": [
        {
          "output_type": "stream",
          "text": [
            "Collecting permutation\n",
            "  Downloading https://files.pythonhosted.org/packages/1a/25/c5cb7503d3635850ea90fa8e97f6588b3bc18819a58a8a58c06da98396c7/permutation-0.3.0-py3-none-any.whl\n",
            "Installing collected packages: permutation\n",
            "Successfully installed permutation-0.3.0\n"
          ],
          "name": "stdout"
        }
      ]
    },
    {
      "cell_type": "code",
      "metadata": {
        "id": "b_qkNEMzd0Q9"
      },
      "source": [
        "import time\n",
        "import pickle\n",
        "import pandas as pd\n",
        "import numpy as np\n",
        "from collections import deque\n",
        "from permutation import Permutation\n",
        "from queue import Queue, PriorityQueue\n",
        "from IPython.display import clear_output\n",
        "import matplotlib.pyplot as plt"
      ],
      "execution_count": null,
      "outputs": []
    },
    {
      "cell_type": "markdown",
      "metadata": {
        "id": "wLa0e8A5fUYg"
      },
      "source": [
        "# Defining Cubie Classes"
      ]
    },
    {
      "cell_type": "code",
      "metadata": {
        "id": "Esht6v_BeL1h"
      },
      "source": [
        "class CornerCubie:\n",
        "    \n",
        "    __slots__ = ['orientation', 'ID']\n",
        "    \n",
        "    def __init__(self, ID, orientation = 0):\n",
        "        self.orientation = orientation\n",
        "        self.ID          = ID\n",
        "        \n",
        "        \n",
        "    def __eq__(self, other):\n",
        "        return self.ID == other.ID and self.orientation == other.orientation\n",
        "    \n",
        "    \n",
        "    def __str__(self):\n",
        "        return str(self.ID) + ' ' + str(self.orientation)\n",
        "    \n",
        "    \n",
        "    def __repr__(self):\n",
        "        return str(self.ID) + ' ' + str(self.orientation)\n",
        "    \n",
        "\n",
        "    def incrementOrientOne(self):\n",
        "        if   self.orientation == 0: return CornerCubie(self.ID, 1)\n",
        "        elif self.orientation == 1: return CornerCubie(self.ID, 2)\n",
        "        elif self.orientation == 2: return CornerCubie(self.ID, 0) \n",
        "        \n",
        "        \n",
        "    def incrementOrientTwo(self):\n",
        "        if   self.orientation == 0: return CornerCubie(self.ID, 2)\n",
        "        elif self.orientation == 1: return CornerCubie(self.ID, 0)\n",
        "        elif self.orientation == 2: return CornerCubie(self.ID, 1) \n",
        "\n",
        "\n",
        "# CORNER GOAL STATE CLASS INSTANCES\n",
        "WRB = CornerCubie(1)    # Up-Front-Right\n",
        "WRG = CornerCubie(2)    # Up-Front-Left\n",
        "YRB = CornerCubie(3)    # Down-Front-Right\n",
        "YRG = CornerCubie(4)    # Down-Front-Left\n",
        "WOB = CornerCubie(5)    # Up-Back-Right\n",
        "WOG = CornerCubie(6)    # Up-Back-Left\n",
        "YOB = CornerCubie(7)    # Down-Back-Right\n",
        "YOG = CornerCubie(8)    # Down-Back-Left"
      ],
      "execution_count": null,
      "outputs": []
    },
    {
      "cell_type": "code",
      "metadata": {
        "id": "penvES_Be1zp"
      },
      "source": [
        "class EdgeCubie:\n",
        "    \n",
        "    __slots__ = ['orientation', 'ID']\n",
        "    \n",
        "    def __init__(self, ID, orientation = 0):\n",
        "        self.orientation = orientation\n",
        "        self.ID          = ID\n",
        "        \n",
        "        \n",
        "    def __eq__(self, other):\n",
        "        return self.ID == other.ID and self.orientation == other.orientation\n",
        "    \n",
        "    \n",
        "    def __str__(self):\n",
        "        return str(self.ID) + ' ' + str(self.orientation)\n",
        "    \n",
        "    \n",
        "    def __repr__(self):\n",
        "        return str(self.ID) + ' ' + str(self.orientation)\n",
        "    \n",
        "\n",
        "    def changeOrientation(self):\n",
        "        if self.orientation == 1  : return EdgeCubie(self.ID, 0)\n",
        "        elif self.orientation == 0: return EdgeCubie(self.ID, 1)\n",
        "\n",
        "\n",
        "# EDGE GOAL STATE CLASS INSTANCES\n",
        "WR = EdgeCubie(1)   # Up-Front\n",
        "WB = EdgeCubie(2)   # Up-Right\n",
        "WO = EdgeCubie(3)   # Up-Back\n",
        "WG = EdgeCubie(4)   # Up-Left\n",
        "RB = EdgeCubie(5)   # Front-Right\n",
        "RG = EdgeCubie(6)   # Front-Left\n",
        "OB = EdgeCubie(7)   # Back-Right\n",
        "OG = EdgeCubie(8)   # Back-Left\n",
        "YR = EdgeCubie(9)   # Down-Front\n",
        "YB = EdgeCubie(10)  # Down-Right\n",
        "YO = EdgeCubie(11)  # Down-Back\n",
        "YG = EdgeCubie(12)  # Down-Left"
      ],
      "execution_count": null,
      "outputs": []
    },
    {
      "cell_type": "markdown",
      "metadata": {
        "id": "e0Y71tO8fYL7"
      },
      "source": [
        "# Defining list classes"
      ]
    },
    {
      "cell_type": "code",
      "metadata": {
        "id": "zKCIvUhaeY3w"
      },
      "source": [
        "class CornerList:\n",
        "    \n",
        "    GOAL = np.array([WRB, WRG, YRB, YRG, WOB, WOG, YOB, YOG])\n",
        "    \n",
        "    __slots__ = ['state', 'hashing']\n",
        "    \n",
        "    def __init__(self, state):\n",
        "        self.state     = state\n",
        "        self.hashing   = self.hashingNumber()\n",
        "        \n",
        "        \n",
        "    def __str__(self):\n",
        "        return str(list(self.state))\n",
        "    \n",
        "    \n",
        "    def __repr__(self):\n",
        "        return str(list(self.state))\n",
        "    \n",
        "    \n",
        "    def __eq__(self, other):\n",
        "        return self.hashing == other.hashing\n",
        "\n",
        "    def __hash__(self):\n",
        "        return hash(self.hashing)\n",
        "        \n",
        "        \n",
        "    def hashingNumber(self):\n",
        "        ori = int(''.join((str(corner.orientation) for corner in self.state[:-1])), 3)\n",
        "        id = Permutation(*(corner.ID for corner in self.state)).lehmer(8)\n",
        "        return id*(3**7) + ori\n",
        "\n",
        "\n",
        "    def isOriented(self):\n",
        "        for corner in self.state: \n",
        "            if corner.orientation != 0: return False\n",
        "        return True\n",
        "\n",
        "  \n",
        "    def rotateCorners(self, move):\n",
        "        if   \"U\" in move:\n",
        "            if \"'\" in move: new_state = self.rotateCornerUp(-90)\n",
        "            elif \"2\" in move: new_state = self.rotateCornerUp(180)\n",
        "            else: new_state = self.rotateCornerUp(90)\n",
        "        elif \"D\" in move:\n",
        "            if \"'\" in move: new_state = self.rotateCornerDown(-90)\n",
        "            elif \"2\" in move: new_state = self.rotateCornerDown(180)\n",
        "            else: new_state = self.rotateCornerDown(90)\n",
        "        elif \"F\" in move:\n",
        "            if \"'\" in move: new_state = self.rotateCornerFront(-90)\n",
        "            elif \"2\" in move: new_state = self.rotateCornerFront(180)\n",
        "            else: new_state = self.rotateCornerFront(90)\n",
        "        elif \"B\" in move:\n",
        "            if \"'\" in move: new_state = self.rotateCornerBack(-90)\n",
        "            elif \"2\" in move: new_state = self.rotateCornerBack(180)\n",
        "            else: new_state = self.rotateCornerBack(90)\n",
        "        elif \"R\" in move:\n",
        "            if \"'\" in move: new_state = self.rotateCornerRight(-90)\n",
        "            elif \"2\" in move: new_state = self.rotateCornerRight(180)\n",
        "            else: new_state = self.rotateCornerRight(90)\n",
        "        elif \"L\" in move:\n",
        "            if \"'\" in move: new_state = self.rotateCornerLeft(-90)\n",
        "            elif \"2\" in move: new_state = self.rotateCornerLeft(180)\n",
        "            else: new_state = self.rotateCornerLeft(90)\n",
        "        return CornerList(np.array(new_state))\n",
        "\n",
        "\n",
        "    # ROTATING UP OR DOWN DOESN'T CHANGE CORNER ORIENTATION\n",
        "    def rotateCornerUp(self, angle):\n",
        "        nstate = [item for item in self.state]\n",
        "        if angle == 90   : nstate[1], nstate[5], nstate[0], nstate[4] = nstate[0], nstate[1], nstate[4], nstate[5]\n",
        "        elif angle == -90: nstate[4], nstate[0], nstate[5], nstate[1] = nstate[0], nstate[1], nstate[4], nstate[5]\n",
        "        elif angle == 180: nstate[5], nstate[4], nstate[1], nstate[0] = nstate[0], nstate[1], nstate[4], nstate[5]\n",
        "        return np.array(nstate)\n",
        "\n",
        "\n",
        "    def rotateCornerDown(self, angle):\n",
        "        nstate = [item for item in self.state]\n",
        "        if angle == 90   : nstate[3], nstate[7], nstate[2], nstate[6] = nstate[2], nstate[3], nstate[6], nstate[7]\n",
        "        elif angle == -90: nstate[6], nstate[2], nstate[7], nstate[3] = nstate[2], nstate[3], nstate[6], nstate[7]\n",
        "        elif angle == 180: nstate[7], nstate[6], nstate[3], nstate[2] = nstate[2], nstate[3], nstate[6], nstate[7]\n",
        "        return np.array(nstate)\n",
        "\n",
        "\n",
        "    # ROTATING F, B, R, L once change orientation of corners\n",
        "    def rotateCornerFront(self, angle):\n",
        "        nstate = [item for item in self.state]\n",
        "        if angle == 90: \n",
        "            nstate[0] = nstate[0].incrementOrientOne()\n",
        "            nstate[1] = nstate[1].incrementOrientTwo()\n",
        "            nstate[2] = nstate[2].incrementOrientOne()\n",
        "            nstate[3] = nstate[3].incrementOrientTwo()\n",
        "            nstate[2], nstate[0], nstate[3], nstate[1] = nstate[0], nstate[1], nstate[2], nstate[3] \n",
        "        elif angle == -90: \n",
        "            nstate[0] = nstate[0].incrementOrientOne()\n",
        "            nstate[1] = nstate[1].incrementOrientTwo()\n",
        "            nstate[2] = nstate[2].incrementOrientOne()\n",
        "            nstate[3] = nstate[3].incrementOrientTwo()\n",
        "            nstate[1], nstate[3], nstate[0], nstate[2] = nstate[0], nstate[1], nstate[2], nstate[3]\n",
        "        elif angle == 180: \n",
        "            nstate[3], nstate[2], nstate[1], nstate[0] = nstate[0], nstate[1], nstate[2], nstate[3]\n",
        "        return np.array(nstate)\n",
        "\n",
        "\n",
        "    def rotateCornerBack(self, angle):\n",
        "        nstate = [item for item in self.state]\n",
        "        if angle == 90: \n",
        "            nstate[5] = nstate[5].incrementOrientOne()\n",
        "            nstate[6] = nstate[6].incrementOrientOne()\n",
        "            nstate[4] = nstate[4].incrementOrientTwo()\n",
        "            nstate[7] = nstate[7].incrementOrientTwo()\n",
        "            nstate[6], nstate[4], nstate[7], nstate[5] = nstate[4], nstate[5], nstate[6], nstate[7]\n",
        "        elif angle == -90: \n",
        "            nstate[5] = nstate[5].incrementOrientOne()\n",
        "            nstate[6] = nstate[6].incrementOrientOne()\n",
        "            nstate[4] = nstate[4].incrementOrientTwo()\n",
        "            nstate[7] = nstate[7].incrementOrientTwo()\n",
        "            nstate[5], nstate[7], nstate[4], nstate[6] = nstate[4], nstate[5], nstate[6], nstate[7] \n",
        "        elif angle == 180: \n",
        "            nstate[7], nstate[6], nstate[5], nstate[4] = nstate[4], nstate[5], nstate[6], nstate[7]\n",
        "        return np.array(nstate)\n",
        "\n",
        "\n",
        "    def rotateCornerRight(self, angle):\n",
        "        nstate = [item for item in self.state]\n",
        "        if angle == 90: \n",
        "            nstate[2] = nstate[2].incrementOrientOne()\n",
        "            nstate[4] = nstate[4].incrementOrientOne()\n",
        "            nstate[0] = nstate[0].incrementOrientTwo()\n",
        "            nstate[6] = nstate[6].incrementOrientTwo()\n",
        "            nstate[4], nstate[0], nstate[6], nstate[2] = nstate[0], nstate[2], nstate[4], nstate[6]  \n",
        "        elif angle == -90: \n",
        "            nstate[2] = nstate[2].incrementOrientOne()\n",
        "            nstate[4] = nstate[4].incrementOrientOne()\n",
        "            nstate[0] = nstate[0].incrementOrientTwo()\n",
        "            nstate[6] = nstate[6].incrementOrientTwo()\n",
        "            nstate[2], nstate[6], nstate[0], nstate[4] = nstate[0], nstate[2], nstate[4], nstate[6]\n",
        "        elif angle == 180: \n",
        "            nstate[6], nstate[4], nstate[2], nstate[0] = nstate[0], nstate[2], nstate[4], nstate[6]\n",
        "        return np.array(nstate)\n",
        "\n",
        "\n",
        "    def rotateCornerLeft(self, angle):\n",
        "        nstate = [item for item in self.state]\n",
        "        if angle == 90: \n",
        "            nstate[1] = nstate[1].incrementOrientOne()\n",
        "            nstate[7] = nstate[7].incrementOrientOne()\n",
        "            nstate[4] = nstate[4].incrementOrientTwo()\n",
        "            nstate[5] = nstate[5].incrementOrientTwo()\n",
        "            nstate[5], nstate[1], nstate[7], nstate[3] = nstate[1], nstate[3], nstate[5], nstate[7]\n",
        "        elif angle == -90:\n",
        "            nstate[1] = nstate[1].incrementOrientOne()\n",
        "            nstate[7] = nstate[7].incrementOrientOne()\n",
        "            nstate[4] = nstate[4].incrementOrientTwo()\n",
        "            nstate[5] = nstate[5].incrementOrientTwo()\n",
        "            nstate[3], nstate[7], nstate[1], nstate[5] = nstate[1], nstate[3], nstate[5], nstate[7]\n",
        "        elif angle == 180: \n",
        "            nstate[7], nstate[5], nstate[3], nstate[1] = nstate[1], nstate[3], nstate[5], nstate[7]\n",
        "        return np.array(nstate)\n",
        "\n",
        "\n",
        "wrb = CornerCubie(1)    # Up-Front-Right\n",
        "wrg = CornerCubie(2)    # Up-Front-Left\n",
        "yrb = CornerCubie(3)    # Down-Front-Right\n",
        "yrg = CornerCubie(4)    # Down-Front-Left\n",
        "wob = CornerCubie(5)    # Up-Back-Right\n",
        "wog = CornerCubie(6)    # Up-Back-Left\n",
        "yob = CornerCubie(7)    # Down-Back-Right\n",
        "yog = CornerCubie(8)    # Down-Back-Left\n",
        "\n",
        "\n",
        "corner_state = CornerList(np.array([wrb, wrg, yrb, yrg, wob, wog, yob, yog]))"
      ],
      "execution_count": null,
      "outputs": []
    },
    {
      "cell_type": "code",
      "metadata": {
        "id": "j4rbEuOie7JA"
      },
      "source": [
        "class EdgeList:\n",
        "    \n",
        "    GOAL = np.array([WR, WB, WO, WG, RB, RG, OB, OG, YR, YB, YO, YG])\n",
        "    \n",
        "    __slots__ = ['state', 'hashing']\n",
        "    \n",
        "    def __init__(self, state):\n",
        "        self.state     = state\n",
        "        self.hashing   = self.hashingNumber()\n",
        "        \n",
        "        \n",
        "    def __str__(self):\n",
        "        return str(list(self.state))\n",
        "    \n",
        "    \n",
        "    def __repr__(self):\n",
        "        return str(list(self.state))\n",
        "    \n",
        "    \n",
        "    def __eq__(self, other):\n",
        "        return self.hashing == other.hashing\n",
        "    \n",
        "        \n",
        "    def hashingNumber(self):\n",
        "        ori = int(''.join((str(edge.orientation) for edge in self.state[:-1])), 2)\n",
        "        id = Permutation(*(edge.ID for edge in self.state)).lehmer(12)\n",
        "        return id*(2**11) + ori\n",
        "\n",
        "\n",
        "    def isOriented(self):\n",
        "        for edge in self.state: \n",
        "            if edge.orientation != 0: return False\n",
        "        return True\n",
        "\n",
        "\n",
        "    # layer between LEFT and RIGHT faces: UF, UB, DF, DB\n",
        "    def edgesLayerM(self):\n",
        "        edgesM = EdgeList.GOAL[0], EdgeList.GOAL[2], EdgeList.GOAL[8], EdgeList.GOAL[10]\n",
        "        a  = self.state[0] in edgesM\n",
        "        b  = self.state[2] in edgesM\n",
        "        c  = self.state[8] in edgesM\n",
        "        d = self.state[10] in edgesM\n",
        "        if a and b and c and d: return True\n",
        "        else: return False\n",
        "\n",
        "\n",
        "    # layer between up and down faces: FR, FL, BR, BL\n",
        "    def edgesLayerE(self):\n",
        "        edgesE = EdgeList.GOAL[4], EdgeList.GOAL[5], EdgeList.GOAL[6], EdgeList.GOAL[7]\n",
        "        a = self.state[4] in edgesE\n",
        "        b = self.state[5] in edgesE\n",
        "        c = self.state[6] in edgesE\n",
        "        d = self.state[7] in edgesE\n",
        "        if a and b and c and d: return True\n",
        "        else: return False\n",
        "    \n",
        "\n",
        "    # layer between front and back faces: UR, UL, DR, DL\n",
        "    def edgesLayerS(self):\n",
        "        edgesS = EdgeList.GOAL[1], EdgeList.GOAL[3], EdgeList.GOAL[9], EdgeList.GOAL[11]\n",
        "        a  = self.state[1] in edgesS\n",
        "        b  = self.state[3] in edgesS\n",
        "        c  = self.state[9] in edgesS\n",
        "        d = self.state[11] in edgesS\n",
        "        if a and b and c and d: return True\n",
        "        else: return False\n",
        "                \n",
        "        \n",
        "    def rotateEdges(self, move):\n",
        "        if \"U\" in move:\n",
        "            if \"'\" in move: new_state = self.rotateEdgeUp(-90)\n",
        "            elif \"2\" in move: new_state = self.rotateEdgeUp(180)\n",
        "            else: new_state = self.rotateEdgeUp(90)\n",
        "        elif \"D\" in move:\n",
        "            if \"'\" in move: new_state = self.rotateEdgeDown(-90)\n",
        "            elif \"2\" in move: new_state = self.rotateEdgeDown(180)\n",
        "            else: new_state = self.rotateEdgeDown(90)\n",
        "        elif \"F\" in move:\n",
        "            if \"'\" in move: new_state = self.rotateEdgeFront(-90)\n",
        "            elif \"2\" in move: new_state = self.rotateEdgeFront(180)\n",
        "            else: new_state = self.rotateEdgeFront(90)\n",
        "        elif \"B\" in move:\n",
        "            if \"'\" in move: new_state = self.rotateEdgeBack(-90)\n",
        "            elif \"2\" in move: new_state = self.rotateEdgeBack(180)\n",
        "            else: new_state = self.rotateEdgeBack(90)\n",
        "        elif \"R\" in move:\n",
        "            if \"'\" in move: new_state = self.rotateEdgeRight(-90)\n",
        "            elif \"2\" in move: new_state = self.rotateEdgeRight(180)\n",
        "            else: new_state = self.rotateEdgeRight(90)\n",
        "        elif \"L\" in move:\n",
        "            if \"'\" in move: new_state = self.rotateEdgeLeft(-90)\n",
        "            elif \"2\" in move: new_state = self.rotateEdgeLeft(180)\n",
        "            else: new_state = self.rotateEdgeLeft(90)\n",
        "        return EdgeList(np.array(new_state))\n",
        "\n",
        "\n",
        "    # Notice that all edges that appear in Up are in the first 4 places of the list\n",
        "    def rotateEdgeUp(self, angle):\n",
        "        nstate = [item for item in self.state]\n",
        "        if angle == 90   : updates = np.array([nstate[1], nstate[2], nstate[3], nstate[0]])\n",
        "        elif angle == -90: updates = np.array([nstate[3], nstate[0], nstate[1], nstate[2]])\n",
        "        elif angle == 180: updates = np.array([nstate[2], nstate[3], nstate[0], nstate[1]])\n",
        "        return np.concatenate((updates, nstate[4:]))\n",
        "\n",
        "\n",
        "\n",
        "    # Notice that all edges that appear in DOWN are in the first 4 places of the list\n",
        "    def rotateEdgeDown(self, angle):\n",
        "        nstate = [item for item in self.state]\n",
        "        if angle == 90   : updates = np.array([nstate[9], nstate[10], nstate[11], nstate[8]])\n",
        "        elif angle == -90: updates = np.array([nstate[11], nstate[8], nstate[9], nstate[10]])\n",
        "        elif angle == 180: updates = np.array([nstate[10], nstate[11], nstate[8], nstate[9]])\n",
        "        return np.concatenate((nstate[0:8], updates))\n",
        "\n",
        "\n",
        "\n",
        "    # Rotating Front or Back flip the orientation of all four edges in that face\n",
        "    # Notice that all edges that appear in Front are in indexes 0, 4, 5, 8\n",
        "    def rotateEdgeFront(self, angle):\n",
        "        nstate = [item for item in self.state]\n",
        "        if angle != 180: \n",
        "            for i in [0, 4, 5, 8]: nstate[i] = nstate[i].changeOrientation()\n",
        "        if angle == 90   : nstate[0], nstate[4], nstate[5], nstate[8] = nstate[5], nstate[0], nstate[8], nstate[4]  \n",
        "        elif angle == -90: nstate[0], nstate[4], nstate[5], nstate[8] = nstate[4], nstate[8], nstate[0], nstate[5]\n",
        "        elif angle == 180: nstate[0], nstate[4], nstate[5], nstate[8] = nstate[8], nstate[5], nstate[4], nstate[0]\n",
        "        return np.array(nstate)\n",
        "\n",
        "\n",
        "\n",
        "    # Notice that all edges that appear in Back are in indexes 2, 6, 7, 10\n",
        "    def rotateEdgeBack(self, angle):\n",
        "        nstate = [item for item in self.state]\n",
        "        if angle != 180: \n",
        "            for i in [2, 6, 7, 10]: nstate[i] = nstate[i].changeOrientation()\n",
        "        if angle == 90   : nstate[2], nstate[6], nstate[7], nstate[10] = nstate[7], nstate[2], nstate[10], nstate[6]  \n",
        "        elif angle == -90: nstate[2], nstate[6], nstate[7], nstate[10] = nstate[6], nstate[10], nstate[2], nstate[7]\n",
        "        elif angle == 180: nstate[2], nstate[6], nstate[7], nstate[10] = nstate[10], nstate[7], nstate[6], nstate[2]\n",
        "        return np.array(nstate)\n",
        "\n",
        "\n",
        "\n",
        "    # Notice that all edges that appear in Right are in indexes 1, 4, 6, 9\n",
        "    def rotateEdgeRight(self, angle):\n",
        "        nstate = [item for item in self.state]\n",
        "        if angle == 90   : nstate[6], nstate[1], nstate[9], nstate[4] = nstate[1], nstate[4], nstate[6], nstate[9]  \n",
        "        elif angle == -90: nstate[4], nstate[9], nstate[1], nstate[6] = nstate[1], nstate[4], nstate[6], nstate[9]\n",
        "        elif angle == 180: nstate[9], nstate[6], nstate[4], nstate[1] = nstate[1], nstate[4], nstate[6], nstate[9]\n",
        "        return np.array(nstate)\n",
        "\n",
        "\n",
        "\n",
        "    # Notice that all edges that appear in Right are in indexes 3, 5, 7, 11\n",
        "    def rotateEdgeLeft(self, angle):\n",
        "        nstate = [item for item in self.state]\n",
        "        if angle == 90   : nstate[7], nstate[3], nstate[11], nstate[5] = nstate[3], nstate[5], nstate[7], nstate[11]  \n",
        "        elif angle == -90: nstate[5], nstate[11], nstate[3], nstate[7] = nstate[3], nstate[5], nstate[7], nstate[11]\n",
        "        elif angle == 180: nstate[11], nstate[7], nstate[5], nstate[3] = nstate[3], nstate[5], nstate[7], nstate[11]\n",
        "        return np.array(nstate)\n",
        "\n",
        "\n",
        "\n",
        "wr = EdgeCubie(1)       # Up-Front\n",
        "wb = EdgeCubie(2)       # Up-Right\n",
        "wo = EdgeCubie(3)       # Up-Back\n",
        "wg = EdgeCubie(4)       # Up-Left\n",
        "rb = EdgeCubie(5)       # Front-Right\n",
        "rg = EdgeCubie(6)       # Front-Left\n",
        "ob = EdgeCubie(7)       # Back-Right\n",
        "og = EdgeCubie(8)       # Back-Left\n",
        "yr = EdgeCubie(9)       # Down-Front\n",
        "yb = EdgeCubie(10)      # Down-Right\n",
        "yo = EdgeCubie(11)      # Down-Back\n",
        "yg = EdgeCubie(12)      # Down-Left\n",
        "\n",
        "\n",
        "edge_state = EdgeList(np.array([wr, wb, wo, wg, rb, rg, ob, og, yr, yb, yo, yg]))"
      ],
      "execution_count": null,
      "outputs": []
    },
    {
      "cell_type": "code",
      "metadata": {
        "id": "wk0kWyV-oFq7"
      },
      "source": [
        "class CubeNode:\n",
        "\n",
        "    __slots__ = ['state', 'gval', 'parent', 'parentMove', 'fval']\n",
        "\n",
        "    GOAL = [CornerList(np.array([WRB, WRG, YRB, YRG, WOB, WOG, YOB, YOG])), \n",
        "            EdgeList(np.array([WR, WB, WO, WG, RB, RG, OB, OG, YR, YB, YO, YG]))]\n",
        "\n",
        "    def __init__(self, state, parent = None, move = None, gval = 0):\n",
        "        self.state      = state\n",
        "        self.parent     = parent\n",
        "        self.parentMove = move\n",
        "        self.gval       = gval\n",
        "        self.fval       = gval + self.misplacedTiles()\n",
        "\n",
        "    def __eq__(self, other):\n",
        "        return self.state[0] == other.state[0] and self.state[1] == other.state[1]\n",
        "\n",
        "    def __hash__(self):\n",
        "        return hash((self.state[0].hashing, self.state[1].hashing))\n",
        "\n",
        "    def __str__(self):\n",
        "        return str([str(self.state[0]), str(self.state[1])])\n",
        "\n",
        "    def __repr__(self):\n",
        "        return str([str(self.state[0]), str(self.state[1])])\n",
        "\n",
        "    def __lt__(self, other):\n",
        "        return self.fval < other.fval\n",
        "\n",
        "    def rotate(self, move):\n",
        "        corners = self.state[0] \n",
        "        edges   = self.state[1] \n",
        "        return CubeNode([corners.rotateCorners(move), edges.rotateEdges(move)], parent=self, move=move, gval=self.gval+1)\n",
        "    \n",
        "    def misplacedTiles(self): \n",
        "        misplaced = 0\n",
        "        for i in range(len(self.state[1].state)):\n",
        "            edge = self.state[1].state[i]\n",
        "            if i != (edge.ID - 1): misplaced += 1\n",
        "        return misplaced/4\n",
        "\n",
        "    def phase1Test(self):\n",
        "        if self.state[1].isOriented(): return True\n",
        "        else: return False\n",
        "    \n",
        "    def phase2Test(self):\n",
        "        if self.state[0].isOriented() and self.state[1].edgesLayerE(): return True\n",
        "        else: return False\n",
        " \n",
        "    def goalTest(self):\n",
        "        corners = self.state[0] \n",
        "        edges   = self.state[1] \n",
        "        if corners == CubeNode.GOAL[0] and edges == CubeNode.GOAL[1]: return True\n",
        "        else: return False"
      ],
      "execution_count": null,
      "outputs": []
    },
    {
      "cell_type": "markdown",
      "metadata": {
        "id": "BiSpnmthfe5C"
      },
      "source": [
        "# Attempting Thistlethwaite’s Algorithm"
      ]
    },
    {
      "cell_type": "code",
      "metadata": {
        "id": "Kz6i1jd87Fip"
      },
      "source": [
        "'''\n",
        "This function takes the solved cube and shuffles it to generate instances of the cube that we can try to\n",
        "solve using the developed solver algorithm. I chose to generate instances of the cube by shuffling it using\n",
        "the allowed moves rather than randomly choosing a state because not all cube states generated randomly are\n",
        "solvable. Shuffling the cube using the allowed moves guarantees that the cube is solvable.\n",
        "'''\n",
        "def shuffle(goal, min, max):\n",
        "    possibleMoves = [\"U\", \"U'\", \"U2\", \"D\", \"D'\", \"D2\", \"F\", \"F'\", \"F2\", \"B\", \"B'\", \"B2\", \"R\", \"R'\", \"R2\", \"L\", \"L'\", \"L2\"]\n",
        "    moves = np.random.choice(possibleMoves, np.random.randint(min, max, 1))\n",
        "    actualMoves = []\n",
        "    for move in moves: \n",
        "        if moveChecks(goal, move): \n",
        "            goal = goal.rotate(move)\n",
        "            actualMoves.append(move)\n",
        "    goal.gval = 0\n",
        "    goal.parent = None\n",
        "    goal.parentMove = None\n",
        "    return goal, actualMoves"
      ],
      "execution_count": null,
      "outputs": []
    },
    {
      "cell_type": "code",
      "metadata": {
        "id": "MgJH0rxfn5VE"
      },
      "source": [
        "'''\n",
        "This function presents a series of if then statements for checking whether the current move would\n",
        "conflict with other moves done. For instance, if the previous move (move that generated current node)\n",
        "was U and the current move (move to be performed by node) is U, then this sequence of moves is the\n",
        "same as performing a half twist of U (aka U2 move), which was done before. If such a situation happens,\n",
        "this function returns False so that we can avoid generating a node again. I use this function under the\n",
        "assumption that generating a node again for checking it on the body of the function costs more memory\n",
        "and time compared to performing this series of if-then checks.\n",
        "'''\n",
        "def moveChecks(node, move):\n",
        "    if node.parent:\n",
        "        previousMove = node.parentMove                                              # Examples:\n",
        "        if previousMove == move: return False                                       # [U, U] = U2\n",
        "        if '2' in previousMove and previousMove[0] == move[0]: return False         # [U2, U] = U'; [U2, U'] = U; [U2, U2] = no move\n",
        "        if '2' in move and move[0] == previousMove[0]: return False                 # [U, U2] = U'; [U', U2] = U; [U2, U2] = no move\n",
        "        if \"'\" in previousMove and previousMove[0] == move[0]: return False         # [U', U] = no move\n",
        "        if \"'\" in move and move[0] == previousMove[0]: return False                 # [U, U'] = no move\n",
        "        return True\n",
        "    else: return True"
      ],
      "execution_count": null,
      "outputs": []
    },
    {
      "cell_type": "markdown",
      "metadata": {
        "id": "aETVmBwa3FKZ"
      },
      "source": [
        "## Phase 1\n",
        "\n",
        "Given any scrambeled cube, phase 1 searches for a state where all edges of the cube are correctly oriented. In other words, phase 1 returns a node where its edges have an orientation 0. Since only quarter turns of the front and back faces can change the orientation of edges, we can find a solution for the cube ignoring front and back quarter turns if the cube has all edges correctly oriented. Thus, finding a goal for phase 1 allows us to search for a solution, starting from that phase 1 goal node, without considering F, F', B, nad B'."
      ]
    },
    {
      "cell_type": "code",
      "metadata": {
        "id": "tVDvCeor12RV"
      },
      "source": [
        "'''\n",
        "A* SEARCH USING NUMBER OF MISPLACED CUBIES AS HEURISTIC\n",
        "\n",
        "This function implements the first phase of the Rubik's cube solver -- given a scrambeled cube, it searches\n",
        "for a state where all edges of the cube are correctly oriented (i.e., all edges have orientation 0). If we\n",
        "find such state, then we will be able to reduce the branching factor by four by removing moves that would\n",
        "alter the orientation of edges (removing moves F, F', B, B'), which is what phase 2 does.\n",
        "'''\n",
        "def phase1(node):\n",
        "    frontier, explored = PriorityQueue(), {node}                    # initializing frontier queue and explored set\n",
        "    if node.phase1Test(): return node                               # check whether test of phase 1 is complete\n",
        "    frontier.put(node)                                              # putting initial node to frontier\n",
        "    moves = [\"U\", \"U'\", \"U2\", \"D\", \"D'\", \"D2\", \"F\", \"F'\", \"F2\",     # saves all possible moves to a list\n",
        "             \"B\", \"B'\", \"B2\", \"R\", \"R'\", \"R2\", \"L\", \"L'\", \"L2\"]\n",
        "\n",
        "    while not frontier.empty():                                     # while frontier is not empty\n",
        "        node = frontier.get()                                       # pop best node from priority queue\n",
        "        for move in moves:\n",
        "            if moveChecks(node, move):                              # checks if move doesn't make state return to what it was before\n",
        "                child = node.rotate(move)                           # generate a new child using move\n",
        "                if child.phase1Test(): return child                 # return child if all edges are oriented\n",
        "                if child in explored or child.gval > 7: continue    # if child in explored or too far away from node, continue\n",
        "                explored.add(child)                                 # add child to explored set\n",
        "                frontier.put(child)                                 # put child in frontier according to fval"
      ],
      "execution_count": null,
      "outputs": []
    },
    {
      "cell_type": "markdown",
      "metadata": {
        "id": "H9tosD4v3md3"
      },
      "source": [
        "## Phase 2\n",
        "\n",
        "This phase is responsible for finding a state where all corners are correctly oriented and the edges of the E layer are on the E layer. Since quarter turns of the front, back, right, and left faces change the orientation of a corner, but we don't have quarter turns of the front and the back faces on this step, only R, R', L, and L' can change a corner's orientation. Furthermore, rotation of up and down faces cannot change the edges that are in the E slice. Thus, we need to make the edges whose home are in the E layer get there still on this phase."
      ]
    },
    {
      "cell_type": "code",
      "metadata": {
        "id": "WGo4VgIE17oo"
      },
      "source": [
        "def generateP2CornerGoals(goalNode):\n",
        "    frontier, explored = deque([goalNode.state[0]]), {goalNode.state[0]}\n",
        "    moves = [\"U\", \"U'\", \"U2\", \"D\", \"D'\", \"D2\", \"F2\", \"B2\", \"R2\", \"L2\"]      # only moves that do not change corner orientation\n",
        "    while frontier:\n",
        "        cornerNode = frontier.popleft()\n",
        "        for move in moves:\n",
        "            cornerChild = cornerNode.rotateCorners(move)\n",
        "            if cornerChild in explored: continue\n",
        "            explored.add(cornerChild)\n",
        "            frontier.append(cornerChild)\n",
        "    return list(explored)\n",
        "\n",
        "\n",
        "\n",
        "\n",
        "def createP2PatternDB(goalList):\n",
        "    frontier, explored = deque(goalList), {cornerNode: 0 for cornerNode in goalList}\n",
        "    moves = [\"F2\", \"B2\", \"U\", \"U'\", \"U2\", \"D\", \"D'\", \"D2\", \"R\", \"R'\", \"R2\", \"L\", \"L'\", \"L2\"]\n",
        "    while frontier:\n",
        "        cornerNode = frontier.popleft()\n",
        "        if explored[cornerNode] > 2: return explored\n",
        "        for move in moves:\n",
        "            cornerChild = cornerNode.rotateCorners(move)\n",
        "            if cornerChild in explored: continue\n",
        "            explored[cornerChild] = explored[cornerNode] + 1\n",
        "            frontier.append(cornerChild)\n",
        "    \n",
        "\n",
        "\n",
        "\n",
        "# All corners are oriented and the four edges (FR, FL, BR, BL) are in the E slice (layer between up and down)\n",
        "def phase2(node):\n",
        "    frontier, explored = PriorityQueue(), {node}                        # initializing objects\n",
        "    if node.phase2Test(): return node                                   # check if phase 2 test is successful\n",
        "    frontier.put(node)                                                  # putting initial node to frontier\n",
        "    iGval = node.gval\n",
        "    moves = [\"F2\", \"B2\", \"U\", \"U'\", \"U2\", \"D\", \"D'\",                    # saves moves to a list (remove F and B single turns)\n",
        "             \"D2\", \"R\", \"R'\", \"R2\", \"L\", \"L'\", \"L2\"]\n",
        "    \n",
        "    while not frontier.empty():                                         # while frontier is not empty\n",
        "        node = frontier.get()                                           # pop best node from priority queue\n",
        "        for move in moves:\n",
        "            if moveChecks(node, move):\n",
        "                child = node.rotate(move)                               # generate a new child using given move\n",
        "                if child.phase2Test(): return child                     # if both conditions are true, return child\n",
        "                if child in explored or child.gval>iGval+10: continue   # if child in explored or too far away from node, continue\n",
        "                if child.state[0] in phase2DB: \n",
        "                    child.fval = child.gval + phase2DB[child.state[0]]\n",
        "                else: child.fval = child.gval + 3\n",
        "                explored.add(child)                                     # add child to explored\n",
        "                frontier.put(child)                                     # put child in frontier according to fval"
      ],
      "execution_count": null,
      "outputs": []
    },
    {
      "cell_type": "markdown",
      "metadata": {
        "id": "ffosccrxz3mY"
      },
      "source": [
        "## Phase 3\n",
        "\n",
        "This phase is responsible for finding a state where the cube can be solved using only half twists. Thus, we need to find a state where all edges are on their correct layer since half turns do not change edges of layer, but only permute edges on their current layer. Furthermore, all corners need to be on their correct orbit, which means that they can be moved to their correct position using only half turns. "
      ]
    },
    {
      "cell_type": "code",
      "metadata": {
        "id": "h6yqM06xmuqi"
      },
      "source": [
        "'''\n",
        "Generating all possible corners configurations that can be achieved from the goal using\n",
        "only half turns\n",
        "'''\n",
        "def generateP3CornerGoals(goal):\n",
        "    frontier, explored = deque([goal.state[0]]), {goal.state[0]}\n",
        "    moves = [\"U2\", \"D2\", \"F2\", \"B2\", \"R2\", \"L2\"]\n",
        "    while frontier:                                         \n",
        "        cornerNode = frontier.popleft()                         # pop oldest node from frontier\n",
        "        for move in moves:                                      # iterate through every possible move\n",
        "            cornerChild = cornerNode.rotateCorners(move)        # generate child node by rotating parent according to move\n",
        "            if cornerChild in explored: continue                # if state was seen before, continue \n",
        "            explored.add(cornerChild)                           # add child to explored dictionary\n",
        "            frontier.append(cornerChild)                        # add child to frontier so it can be expanded\n",
        "    return explored                                             # return pattern DB\n",
        "\n",
        "\n",
        "\n",
        "'''\n",
        "Creates pattern database for states of phase 3. It uses BFS for generating the \n",
        "database, and the allowed moves are all the ones allowed in phase 3.\n",
        "'''\n",
        "def createP3PatternDB(goalList):\n",
        "    frontier, explored = deque(goalList), {cornerNode: 0 for cornerNode in goalList}\n",
        "    moves = [\"R2\", \"L2\", \"F2\", \"B2\", \"U\", \"U'\", \"U2\", \"D\", \"D'\", \"D2\"]\n",
        "    while frontier:\n",
        "        cornerNode = frontier.popleft()\n",
        "        for move in moves:\n",
        "            cornerChild = cornerNode.rotateCorners(move)\n",
        "            if cornerChild in explored: continue\n",
        "            explored[cornerChild] = explored[cornerNode] + 1\n",
        "            frontier.append(cornerChild)\n",
        "    return explored\n",
        "\n",
        "\n",
        "\n",
        "\n",
        "'''\n",
        "This function implements phase 3 of the Rubik's cube solver. It takes a goal from phase 2 (all corners are\n",
        "oriented and edges of the E layer are in that layer) and searches for nodes where all edges are on their\n",
        "home layers, the corners are on their correct orbits, and the cube has overall even parity. \n",
        "'''\n",
        "def phase3(node):\n",
        "    frontier, explored = PriorityQueue(), {}                            # initializing objects\n",
        "    if node in phase4DB: return node                                    # check if phase 3 test is successful\n",
        "    frontier.put(node)                                                  # putting initial node to frontier\n",
        "    iGval = node.gval                                                   # saves initial node's gval for future reference\n",
        "    moves = [\"R2\", \"L2\", \"F2\", \"B2\", \"U\",                               # saves moves to a list (removes R and L quater turns)\n",
        "             \"U'\", \"U2\", \"D\", \"D'\", \"D2\"]\n",
        "    \n",
        "    while not frontier.empty():                                         # while frontier is not empty\n",
        "        node = frontier.get()                                           # pop best node from priority queue\n",
        "        for move in moves:\n",
        "            if moveChecks(node, move):                                  # check if move doesn't conflict with previous\n",
        "                child = node.rotate(move)                               # generate a new child using given move\n",
        "                if child in phase4DB: return child                      # if all four conditions are true, return child\n",
        "                if child in explored or child.gval>iGval+14: continue   # if child in explored or too far away from node, continue\n",
        "                child.fval = child.gval + phase3DB[child.state[0]]\n",
        "                explored[child] = True                                  # add child to explored\n",
        "                frontier.put(child)                                     # put child in frontier according to fval"
      ],
      "execution_count": null,
      "outputs": []
    },
    {
      "cell_type": "markdown",
      "metadata": {
        "id": "0W4C48DBzoUG"
      },
      "source": [
        "## Phase 4\n",
        "\n",
        "This phase is responsible for solving the cube. Since the starting node on this phase has all edges correctly oriented and on their correct layer, and it also has all corners correctly oriented and on their correct orbit, this phase requires only quarter turns to reach the solved state. In order to make exploration even faster, I created a pattern database that holds the exact number of moves to get from any instance of the cube in phase 4 to the solved cube."
      ]
    },
    {
      "cell_type": "code",
      "metadata": {
        "id": "ZEGM2shHUx6e"
      },
      "source": [
        "'''\n",
        "This functions creates a pattern database for phase 4 of the algorithm. It starts at the solved cube and \n",
        "uses breadth first search to generate every possible cube state by using only the moves allowed in phase\n",
        "4 of the algorithm (half turns). The breadth first approach ensures that the distances entered in the DB\n",
        "are the minimum amount of moves required to reach the goal state from the given configuration.\n",
        "'''\n",
        "def createP4PatternDB(goal):\n",
        "    frontier, explored = deque([goal]), {goal: 0}               # initializing objects\n",
        "    moves = [\"U2\", \"D2\", \"F2\", \"B2\", \"R2\", \"L2\"]                # saving possible moves to a list\n",
        "    while frontier:                                         \n",
        "        node = frontier.popleft()                               # pop oldest node from frontier\n",
        "        for move in moves:                                      # iterate through every possible move\n",
        "            child = node.rotate(move)                           # create child node by rotating parent according to move\n",
        "            if child in explored: continue                      # if state was seen before, continue as this is a worst path to state \n",
        "            explored[child] = child.gval                        # add child to explored dictionary\n",
        "            frontier.append(child)                              # add child to frontier so it can be expanded\n",
        "    return explored                                             # return pattern DB\n",
        "\n",
        "\n",
        "\n",
        "\n",
        "\n",
        "'''\n",
        "A* SEARCH USING PATTERN DATABASE AS HEURISTIC\n",
        "\n",
        "This function implements phase 4 of the Rubik's cube solver. It takes a goal node for phase 3 and performs\n",
        "half turns until it finds the solved cube. It uses the pattern database developed above so that it performs\n",
        "an A* search using the minimum distances from the current state to the solved cube as heuristic function.\n",
        "'''\n",
        "def phase4(node):\n",
        "    frontier, explored = PriorityQueue(), {}                            # initializing objects\n",
        "    if node.goalTest(): return node                                     # check if goal test is successful\n",
        "    frontier.put(node)                                                  # putting initial node to frontier\n",
        "    iGval = node.gval                                                   # saving initial gval for later reference\n",
        "    moves = [\"U2\", \"D2\", \"F2\", \"B2\", \"R2\", \"L2\"]                        # saves moves to a list (now we have only half twists)\n",
        "    \n",
        "    while not frontier.empty():                                         # while frontier is not empty\n",
        "        node = frontier.get()                                           # pop best node from priority queue\n",
        "        for move in moves:                                              # iterating through every move in moves list\n",
        "            if moveChecks(node, move):                                  # check if move doesn't overlap with others done previously\n",
        "                child = node.rotate(move)                               # generate a new child using given move\n",
        "                if child.goalTest(): return child                       # if child is the solved node, return child\n",
        "                if child in explored: continue                          # if child in explored, continue\n",
        "                child.fval = phase4DB[child]                            # set child's fval to be exact distance to goal\n",
        "                explored[child] = True                                  # add child to explored\n",
        "                frontier.put(child)                                     # put child in frontier according to fval\n",
        "\n"
      ],
      "execution_count": null,
      "outputs": []
    },
    {
      "cell_type": "markdown",
      "metadata": {
        "id": "OBamcv2o0ffj"
      },
      "source": [
        "## Solve Cube Function"
      ]
    },
    {
      "cell_type": "code",
      "metadata": {
        "id": "KIPuEYq0ny-F"
      },
      "source": [
        "'''\n",
        "This function takes the solution node and gets the solution steps by moving\n",
        "up the tree by getting the attribute node.parentMove\n",
        "'''\n",
        "def getSteps(finalNode):\n",
        "    node = finalNode\n",
        "    steps = []\n",
        "    while node.parent:\n",
        "        steps.append(node.parentMove)\n",
        "        node = node.parent\n",
        "    return steps[::-1]\n",
        "\n",
        "\n",
        "'''\n",
        "This function takes a shuffled node and searches for the solution, executing all\n",
        "four phases of the algorithm. It returns the final node and the steps taken for\n",
        "retrieving the solution.\n",
        "'''\n",
        "def solveCube(shuffledNode):\n",
        "    print(\"Executing phase 1\")\n",
        "    currentNode = phase1(shuffledNode)\n",
        "    print(\"Executing phase 2\")\n",
        "    currentNode = phase2(currentNode)\n",
        "    print(\"Executing phase 3\")\n",
        "    currentNode = phase3(currentNode)\n",
        "    print(\"Executing phase 4\")\n",
        "    finalNode  = phase4(currentNode)\n",
        "    if finalNode.goalTest(): print(\"Cube is solved!!\")\n",
        "    steps = getSteps(finalNode)\n",
        "    return finalNode, steps"
      ],
      "execution_count": null,
      "outputs": []
    },
    {
      "cell_type": "markdown",
      "metadata": {
        "id": "xohKrYkXBP35"
      },
      "source": [
        "# Execution"
      ]
    },
    {
      "cell_type": "code",
      "metadata": {
        "id": "2AD09HU8Fe5H"
      },
      "source": [
        "# Generate Solution Node for shuffling\n",
        "\n",
        "edge_state    = EdgeList(np.array([wr, wb, wo, wg, rb, rg, ob, og, yr, yb, yo, yg]))\n",
        "corner_state  = CornerList(np.array([wrb, wrg, yrb, yrg, wob, wog, yob, yog]))\n",
        "goal          = CubeNode([corner_state, edge_state])"
      ],
      "execution_count": null,
      "outputs": []
    },
    {
      "cell_type": "code",
      "metadata": {
        "id": "OqFBBL9S7kxJ"
      },
      "source": [
        "# Creates the pattern databases\n",
        "\n",
        "p2CornersGoal = generateP2CornerGoals(goal)\n",
        "phase2DB      = createP2PatternDB(p2CornersGoal)\n",
        "del p2CornersGoal\n",
        "\n",
        "p3CornersGoal = generateP3CornerGoals(goal)\n",
        "phase3DB      = createP3PatternDB(p3CornersGoal)\n",
        "del p3CornersGoal\n",
        "\n",
        "phase4DB      = createP4PatternDB(goal)"
      ],
      "execution_count": null,
      "outputs": []
    },
    {
      "cell_type": "code",
      "metadata": {
        "colab": {
          "base_uri": "https://localhost:8080/"
        },
        "id": "ooJYUGqssh7B",
        "outputId": "3967bde9-e75f-4d7e-e531-14aa0fda6f37"
      },
      "source": [
        "# Solves a cube\n",
        "\n",
        "initialNode, shufflingMoves = shuffle(goal, 2, 6)\n",
        "solutionNode, solutionSteps = solveCube(initialNode)\n",
        "\n",
        "print()\n",
        "print(\"Number of moves: \", solutionNode.gval)\n",
        "print(\"Shuffling moves: \", shufflingMoves)\n",
        "print(\"Solution moves : \", solutionSteps)"
      ],
      "execution_count": null,
      "outputs": [
        {
          "output_type": "stream",
          "text": [
            "Executing phase 1\n",
            "Executing phase 2\n",
            "Executing phase 3\n",
            "Executing phase 4\n",
            "Cube is solved!!\n",
            "\n",
            "Number of moves:  12\n",
            "Shuffling moves:  ['F2', 'R', 'B', \"D'\"]\n",
            "Solution moves :  ['D', 'B', 'L2', 'R2', 'F2', 'R', 'F2', 'R2', 'L2', 'B2', 'R2', 'F2']\n"
          ],
          "name": "stdout"
        }
      ]
    },
    {
      "cell_type": "markdown",
      "metadata": {
        "id": "dDQ0uBnvr7Sh"
      },
      "source": [
        "## Solution Analysis"
      ]
    },
    {
      "cell_type": "code",
      "metadata": {
        "id": "AZ2LRrkrsamd"
      },
      "source": [
        "'''\n",
        "This function solves multiple instances of Rubik's cube. It returns the number of moves\n",
        "used for shuffling the cube, the set of steps of the solutions, and the time that it\n",
        "took the algorithm for finding a solution.\n",
        "'''\n",
        "def solveMultipleCubes(iterations, min, max):\n",
        "    numberMoves = []\n",
        "    solutions = []\n",
        "    timing = []\n",
        "    for i in range(iterations):\n",
        "        initialNode, shufflingMoves = shuffle(goal, min, max)\n",
        "        numberMoves.append(len(shufflingMoves))\n",
        "        print(f\"SOLVING CUBE {i+1}\")\n",
        "        start = time.time()\n",
        "        solutions.append(solveCube(initialNode)[1])\n",
        "        end = time.time()\n",
        "        timing.append(end - start)\n",
        "        clear_output(True)\n",
        "    return numberMoves, solutions, timing"
      ],
      "execution_count": null,
      "outputs": []
    },
    {
      "cell_type": "code",
      "metadata": {
        "colab": {
          "base_uri": "https://localhost:8080/"
        },
        "id": "IyZKI7o_tbEs",
        "outputId": "79059d1b-4a5a-4bf4-eb1a-7de55d3c2c1c"
      },
      "source": [
        "# Generates lists for evaluating performance of algorithms\n",
        "\n",
        "movesList1, solutionLists1, timeToSolve1 = solveMultipleCubes(70, 2, 8)    # range 1\n",
        "movesList2, solutionLists2, timeToSolve2 = solveMultipleCubes(30, 8, 14)   # range 2\n",
        "\n",
        "solutionDepth1 = [len(lst) for lst in solutionLists1]\n",
        "solutionDepth2 = [len(lst) for lst in solutionLists2]"
      ],
      "execution_count": null,
      "outputs": [
        {
          "output_type": "stream",
          "text": [
            "SOLVING CUBE 10\n",
            "Executing phase 1\n",
            "Executing phase 2\n",
            "Executing phase 3\n",
            "Executing phase 4\n",
            "Cube is solved!!\n"
          ],
          "name": "stdout"
        }
      ]
    },
    {
      "cell_type": "code",
      "metadata": {
        "id": "PETryNmSewzf"
      },
      "source": [
        "overallMoves = overallMoves + movesList2\n",
        "overallSolDepth = overallSolDepth + solutionDepth2\n",
        "overallTime  = overallTime + timeToSolve2"
      ],
      "execution_count": null,
      "outputs": []
    },
    {
      "cell_type": "code",
      "metadata": {
        "colab": {
          "base_uri": "https://localhost:8080/",
          "height": 296
        },
        "id": "xPupuLkufb7A",
        "outputId": "55d356d5-4787-443c-b1c6-93fa1ef04df5"
      },
      "source": [
        "plt.scatter(overallMoves, overallSolDepth, color = 'lightblue', alpha = 0.8)\n",
        "plt.title(\"Plot of shuffling moves per solution moves\", fontsize = 14)\n",
        "plt.xlabel(\"Number of shuffling moves\")\n",
        "plt.ylabel(\"Number of solution moves\")\n",
        "plt.show()"
      ],
      "execution_count": null,
      "outputs": [
        {
          "output_type": "display_data",
          "data": {
            "image/png": "[encoded data removed]",
            "text/plain": [
              "<Figure size 432x288 with 1 Axes>"
            ]
          },
          "metadata": {
            "tags": [],
            "needs_background": "light"
          }
        }
      ]
    },
    {
      "cell_type": "code",
      "metadata": {
        "colab": {
          "base_uri": "https://localhost:8080/",
          "height": 296
        },
        "id": "0xSKzEyKfdkc",
        "outputId": "714275da-b4e3-4925-bf49-9e6b56c8c299"
      },
      "source": [
        "plt.scatter(overallMoves, overallTime, color = 'coral', alpha = 0.6)\n",
        "plt.title(\"Plot of shuffling moves per solution time\", fontsize = 14)\n",
        "plt.ylabel(\"Search time (seconds)\")\n",
        "plt.xlabel(\"Number of shuffling moves\")\n",
        "plt.show()"
      ],
      "execution_count": null,
      "outputs": [
        {
          "output_type": "display_data",
          "data": {
            "image/png": "[encoded data removed]",
            "text/plain": [
              "<Figure size 432x288 with 1 Axes>"
            ]
          },
          "metadata": {
            "tags": [],
            "needs_background": "light"
          }
        }
      ]
    },
    {
      "cell_type": "code",
      "metadata": {
        "colab": {
          "base_uri": "https://localhost:8080/",
          "height": 296
        },
        "id": "NhVur4DlRjrk",
        "outputId": "60588d79-11c9-4838-8fd7-268f90dd6fed"
      },
      "source": [
        "plt.scatter(overallSolDepth, overallTime, color = 'mediumpurple', alpha = 0.4)\n",
        "plt.title(\"Plot of solution moves per solution time\", fontsize = 14)\n",
        "plt.ylabel(\"Search time (seconds)\")\n",
        "plt.xlabel(\"Number of solution moves\")\n",
        "plt.show()"
      ],
      "execution_count": null,
      "outputs": [
        {
          "output_type": "display_data",
          "data": {
            "image/png": "[encoded data removed]",
            "text/plain": [
              "<Figure size 432x288 with 1 Axes>"
            ]
          },
          "metadata": {
            "tags": [],
            "needs_background": "light"
          }
        }
      ]
    },
    {
      "cell_type": "code",
      "metadata": {
        "id": "KzzDXX9dghHw"
      },
      "source": [
        "df = pd.DataFrame({ \"MoveList\": overallMoves, \"SoluList\": overallSolDepth, \"TimeList\": overallTime})\n",
        "groupedMoveSolu = df.groupby(pd.cut(df[\"MoveList\"], np.arange(0, 15, 2))).mean()[\"SoluList\"]\n",
        "groupedSolutionTime = df.groupby(pd.cut(df[\"SoluList\"], np.arange(0, 37, 4))).mean()[\"TimeList\"]"
      ],
      "execution_count": null,
      "outputs": []
    },
    {
      "cell_type": "code",
      "metadata": {
        "colab": {
          "base_uri": "https://localhost:8080/"
        },
        "id": "kL2Vp_iV5P08",
        "outputId": "35b4484a-0249-49d2-f67c-ff44c76b784c"
      },
      "source": [
        "groupedMoveSolu"
      ],
      "execution_count": null,
      "outputs": [
        {
          "output_type": "execute_result",
          "data": {
            "text/plain": [
              "MoveList\n",
              "(0, 2]       8.133333\n",
              "(2, 4]      17.242424\n",
              "(4, 6]      22.000000\n",
              "(6, 8]      28.826087\n",
              "(8, 10]     30.583333\n",
              "(10, 12]    29.625000\n",
              "(12, 14]    30.666667\n",
              "Name: SoluList, dtype: float64"
            ]
          },
          "metadata": {
            "tags": []
          },
          "execution_count": 166
        }
      ]
    },
    {
      "cell_type": "code",
      "metadata": {
        "colab": {
          "base_uri": "https://localhost:8080/"
        },
        "id": "5R8EV_YN5Qsa",
        "outputId": "ce0b36de-1767-43f8-f306-2fb245d06c0f"
      },
      "source": [
        "groupedSolutionTime"
      ],
      "execution_count": null,
      "outputs": [
        {
          "output_type": "execute_result",
          "data": {
            "text/plain": [
              "SoluList\n",
              "(0, 4]        0.003608\n",
              "(4, 8]        0.034108\n",
              "(8, 12]       0.008632\n",
              "(12, 16]      0.714624\n",
              "(16, 20]      0.927097\n",
              "(20, 24]     32.613420\n",
              "(24, 28]     53.346248\n",
              "(28, 32]     98.219970\n",
              "(32, 36]    159.963822\n",
              "Name: TimeList, dtype: float64"
            ]
          },
          "metadata": {
            "tags": []
          },
          "execution_count": 167
        }
      ]
    }
  ]
}