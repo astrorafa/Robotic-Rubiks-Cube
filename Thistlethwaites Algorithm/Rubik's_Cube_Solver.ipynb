{
  "nbformat": 4,
  "nbformat_minor": 0,
  "metadata": {
    "colab": {
      "name": "Rubik's Cube Solver.ipynb",
      "provenance": [],
      "collapsed_sections": [
        "a_DdNR2DfJcJ",
        "wLa0e8A5fUYg",
        "e0Y71tO8fYL7",
        "BiSpnmthfe5C",
        "aETVmBwa3FKZ",
        "H9tosD4v3md3",
        "ffosccrxz3mY",
        "0W4C48DBzoUG",
        "xohKrYkXBP35"
      ]
    },
    "kernelspec": {
      "display_name": "Python 3",
      "name": "python3"
    },
    "language_info": {
      "name": "python"
    }
  },
  "cells": [
    {
      "cell_type": "markdown",
      "metadata": {
        "id": "a_DdNR2DfJcJ"
      },
      "source": [
        "# Initializing libraries\n"
      ]
    },
    {
      "cell_type": "code",
      "metadata": {
        "colab": {
          "base_uri": "https://localhost:8080/"
        },
        "id": "OfSk2-0Pd-KN",
        "outputId": "2fb197e1-4222-4c8a-cb54-446a87856428"
      },
      "source": [
        "pip install permutation"
      ],
      "execution_count": 1,
      "outputs": [
        {
          "output_type": "stream",
          "name": "stdout",
          "text": [
            "Collecting permutation\n",
            "  Downloading permutation-0.3.1-py3-none-any.whl (9.3 kB)\n",
            "Installing collected packages: permutation\n",
            "Successfully installed permutation-0.3.1\n"
          ]
        }
      ]
    },
    {
      "cell_type": "code",
      "metadata": {
        "id": "b_qkNEMzd0Q9"
      },
      "source": [
        "import time\n",
        "import pickle\n",
        "import pandas as pd\n",
        "import numpy as np\n",
        "import seaborn as sns\n",
        "from collections import deque\n",
        "from permutation import Permutation\n",
        "from queue import Queue, PriorityQueue\n",
        "from IPython.display import clear_output\n",
        "import matplotlib.pyplot as plt"
      ],
      "execution_count": 2,
      "outputs": []
    },
    {
      "cell_type": "markdown",
      "metadata": {
        "id": "wLa0e8A5fUYg"
      },
      "source": [
        "# Defining Cubie Classes"
      ]
    },
    {
      "cell_type": "code",
      "metadata": {
        "id": "Esht6v_BeL1h"
      },
      "source": [
        "class CornerCubie:\n",
        "    \n",
        "    __slots__ = ['orientation', 'ID']\n",
        "    \n",
        "    def __init__(self, ID, orientation = 0):\n",
        "        self.orientation = orientation\n",
        "        self.ID          = ID\n",
        "        \n",
        "        \n",
        "    def __eq__(self, other):\n",
        "        return self.ID == other.ID and self.orientation == other.orientation\n",
        "    \n",
        "    \n",
        "    def __str__(self):\n",
        "        return str(self.ID) + ' ' + str(self.orientation)\n",
        "    \n",
        "    \n",
        "    def __repr__(self):\n",
        "        return str(self.ID) + ' ' + str(self.orientation)\n",
        "    \n",
        "\n",
        "    def increment_orient_one(self):\n",
        "        if   self.orientation == 0: return CornerCubie(self.ID, 1)\n",
        "        elif self.orientation == 1: return CornerCubie(self.ID, 2)\n",
        "        elif self.orientation == 2: return CornerCubie(self.ID, 0) \n",
        "        \n",
        "        \n",
        "    def increment_orient_two(self):\n",
        "        if   self.orientation == 0: return CornerCubie(self.ID, 2)\n",
        "        elif self.orientation == 1: return CornerCubie(self.ID, 0)\n",
        "        elif self.orientation == 2: return CornerCubie(self.ID, 1) \n"
      ],
      "execution_count": 3,
      "outputs": []
    },
    {
      "cell_type": "code",
      "metadata": {
        "id": "penvES_Be1zp"
      },
      "source": [
        "class EdgeCubie:\n",
        "    \n",
        "    __slots__ = ['orientation', 'ID']\n",
        "    \n",
        "    def __init__(self, ID, orientation = 0):\n",
        "        self.orientation = orientation\n",
        "        self.ID          = ID\n",
        "        \n",
        "        \n",
        "    def __eq__(self, other):\n",
        "        return self.ID == other.ID and self.orientation == other.orientation\n",
        "    \n",
        "    \n",
        "    def __str__(self):\n",
        "        return str(self.ID) + ' ' + str(self.orientation)\n",
        "    \n",
        "    \n",
        "    def __repr__(self):\n",
        "        return str(self.ID) + ' ' + str(self.orientation)\n",
        "    \n",
        "\n",
        "    def change_orientation(self):\n",
        "        if self.orientation == 1  : return EdgeCubie(self.ID, 0)\n",
        "        elif self.orientation == 0: return EdgeCubie(self.ID, 1)\n"
      ],
      "execution_count": 4,
      "outputs": []
    },
    {
      "cell_type": "code",
      "source": [
        "# CORNER GOAL STATE CLASS INSTANCES\n",
        "WRB = CornerCubie(1)    # Up-Front-Right\n",
        "WRG = CornerCubie(2)    # Up-Front-Left\n",
        "YRB = CornerCubie(3)    # Down-Front-Right\n",
        "YRG = CornerCubie(4)    # Down-Front-Left\n",
        "WOB = CornerCubie(5)    # Up-Back-Right\n",
        "WOG = CornerCubie(6)    # Up-Back-Left\n",
        "YOB = CornerCubie(7)    # Down-Back-Right\n",
        "YOG = CornerCubie(8)    # Down-Back-Left\n",
        "\n",
        "# EDGE GOAL STATE CLASS INSTANCES\n",
        "WR = EdgeCubie(1)       # Up-Front\n",
        "WB = EdgeCubie(2)       # Up-Right\n",
        "WO = EdgeCubie(3)       # Up-Back\n",
        "WG = EdgeCubie(4)       # Up-Left\n",
        "RB = EdgeCubie(5)       # Front-Right\n",
        "RG = EdgeCubie(6)       # Front-Left\n",
        "OB = EdgeCubie(7)       # Back-Right\n",
        "OG = EdgeCubie(8)       # Back-Left\n",
        "YR = EdgeCubie(9)       # Down-Front\n",
        "YB = EdgeCubie(10)      # Down-Right\n",
        "YO = EdgeCubie(11)      # Down-Back\n",
        "YG = EdgeCubie(12)      # Down-Left"
      ],
      "metadata": {
        "id": "lK9zFodvNOpk"
      },
      "execution_count": 5,
      "outputs": []
    },
    {
      "cell_type": "markdown",
      "metadata": {
        "id": "e0Y71tO8fYL7"
      },
      "source": [
        "# Defining list classes"
      ]
    },
    {
      "cell_type": "code",
      "metadata": {
        "id": "zKCIvUhaeY3w"
      },
      "source": [
        "class CornerList:\n",
        "    \n",
        "    GOAL = np.array([WRB, WRG, YRB, YRG, WOB, WOG, YOB, YOG])\n",
        "    \n",
        "    __slots__ = ['state', 'hashing']\n",
        "    \n",
        "    def __init__(self, state):\n",
        "        self.state     = state\n",
        "        self.hashing   = self.hashing_number()\n",
        "        \n",
        "    def __str__(self):\n",
        "        return str(list(self.state))\n",
        "    \n",
        "    def __repr__(self):\n",
        "        return str(list(self.state))\n",
        "    \n",
        "    def __eq__(self, other):\n",
        "        return self.hashing == other.hashing\n",
        "\n",
        "    def __hash__(self):\n",
        "        return hash(self.hashing)\n",
        "        \n",
        "    \"\"\" Used as hashing function to put entries to dictionaries (hash tables) \"\"\"\n",
        "    def hashing_number(self):\n",
        "        ori = int(''.join((str(corner.orientation) for corner in self.state[:-1])), 3)\n",
        "        id = Permutation(*(corner.ID for corner in self.state)).lehmer(8)\n",
        "        return id*(3**7) + ori\n",
        "\n",
        "    \"\"\" Function used to check whether all corners are oriented \"\"\"\n",
        "    def is_oriented(self):\n",
        "        for corner in self.state: \n",
        "            if corner.orientation != 0: return False\n",
        "        return True\n",
        "\n",
        "    \"\"\" Function used to update the state of corners via rotation \"\"\"\n",
        "    def rotate_corners(self, move):\n",
        "        if   \"U\" in move:\n",
        "            if \"'\" in move: new_state = self.rotate_corner_up(-90)\n",
        "            elif \"2\" in move: new_state = self.rotate_corner_up(180)\n",
        "            else: new_state = self.rotate_corner_up(90)\n",
        "        elif \"D\" in move:\n",
        "            if \"'\" in move: new_state = self.rotate_corner_down(-90)\n",
        "            elif \"2\" in move: new_state = self.rotate_corner_down(180)\n",
        "            else: new_state = self.rotate_corner_down(90)\n",
        "        elif \"F\" in move:\n",
        "            if \"'\" in move: new_state = self.rotate_corner_front(-90)\n",
        "            elif \"2\" in move: new_state = self.rotate_corner_front(180)\n",
        "            else: new_state = self.rotate_corner_front(90)\n",
        "        elif \"B\" in move:\n",
        "            if \"'\" in move: new_state = self.rotate_corner_back(-90)\n",
        "            elif \"2\" in move: new_state = self.rotate_corner_back(180)\n",
        "            else: new_state = self.rotate_corner_back(90)\n",
        "        elif \"R\" in move:\n",
        "            if \"'\" in move: new_state = self.rotate_corner_right(-90)\n",
        "            elif \"2\" in move: new_state = self.rotate_corner_right(180)\n",
        "            else: new_state = self.rotate_corner_right(90)\n",
        "        elif \"L\" in move:\n",
        "            if \"'\" in move: new_state = self.rotate_corner_left(-90)\n",
        "            elif \"2\" in move: new_state = self.rotate_corner_left(180)\n",
        "            else: new_state = self.rotate_corner_left(90)\n",
        "        return CornerList(np.array(new_state))\n",
        "\n",
        "\n",
        "    \"\"\"\n",
        "    The next functions are responsible for updating the state of the cube based\n",
        "    on the face being rotation and on the direction of rotation. They work by swapping\n",
        "    cubies of indexes on the list that hold all corner cubies.\n",
        "    \"\"\"\n",
        "    \n",
        "    def rotate_corner_up(self, angle):\n",
        "        # ROTATING UP DOESN'T CHANGE CORNER ORIENTATION\n",
        "        nstate = [item for item in self.state]\n",
        "        if angle == 90   : nstate[1], nstate[5], nstate[0], nstate[4] = nstate[0], nstate[1], nstate[4], nstate[5]\n",
        "        elif angle == -90: nstate[4], nstate[0], nstate[5], nstate[1] = nstate[0], nstate[1], nstate[4], nstate[5]\n",
        "        elif angle == 180: nstate[5], nstate[4], nstate[1], nstate[0] = nstate[0], nstate[1], nstate[4], nstate[5]\n",
        "        return np.array(nstate)\n",
        "\n",
        "\n",
        "    def rotate_corner_down(self, angle):\n",
        "        # ROTATING DOWN DOESN'T CHANGE CORNER ORIENTATION\n",
        "        nstate = [item for item in self.state]\n",
        "        if angle == 90   : nstate[3], nstate[7], nstate[2], nstate[6] = nstate[2], nstate[3], nstate[6], nstate[7]\n",
        "        elif angle == -90: nstate[6], nstate[2], nstate[7], nstate[3] = nstate[2], nstate[3], nstate[6], nstate[7]\n",
        "        elif angle == 180: nstate[7], nstate[6], nstate[3], nstate[2] = nstate[2], nstate[3], nstate[6], nstate[7]\n",
        "        return np.array(nstate)\n",
        "\n",
        "\n",
        "    def rotate_corner_front(self, angle):\n",
        "        nstate = [item for item in self.state]\n",
        "        if angle == 90: \n",
        "            nstate[0] = nstate[0].increment_orient_one()\n",
        "            nstate[1] = nstate[1].increment_orient_two()\n",
        "            nstate[2] = nstate[2].increment_orient_one()\n",
        "            nstate[3] = nstate[3].increment_orient_two()\n",
        "            nstate[2], nstate[0], nstate[3], nstate[1] = nstate[0], nstate[1], nstate[2], nstate[3] \n",
        "        elif angle == -90: \n",
        "            nstate[0] = nstate[0].increment_orient_one()\n",
        "            nstate[1] = nstate[1].increment_orient_two()\n",
        "            nstate[2] = nstate[2].increment_orient_one()\n",
        "            nstate[3] = nstate[3].increment_orient_two()\n",
        "            nstate[1], nstate[3], nstate[0], nstate[2] = nstate[0], nstate[1], nstate[2], nstate[3]\n",
        "        elif angle == 180: \n",
        "            nstate[3], nstate[2], nstate[1], nstate[0] = nstate[0], nstate[1], nstate[2], nstate[3]\n",
        "        return np.array(nstate)\n",
        "\n",
        "\n",
        "    def rotate_corner_back(self, angle):\n",
        "        nstate = [item for item in self.state]\n",
        "        if angle == 90: \n",
        "            nstate[5] = nstate[5].increment_orient_one()\n",
        "            nstate[6] = nstate[6].increment_orient_one()\n",
        "            nstate[4] = nstate[4].increment_orient_two()\n",
        "            nstate[7] = nstate[7].increment_orient_two()\n",
        "            nstate[6], nstate[4], nstate[7], nstate[5] = nstate[4], nstate[5], nstate[6], nstate[7]\n",
        "        elif angle == -90: \n",
        "            nstate[5] = nstate[5].increment_orient_one()\n",
        "            nstate[6] = nstate[6].increment_orient_one()\n",
        "            nstate[4] = nstate[4].increment_orient_two()\n",
        "            nstate[7] = nstate[7].increment_orient_two()\n",
        "            nstate[5], nstate[7], nstate[4], nstate[6] = nstate[4], nstate[5], nstate[6], nstate[7] \n",
        "        elif angle == 180: \n",
        "            nstate[7], nstate[6], nstate[5], nstate[4] = nstate[4], nstate[5], nstate[6], nstate[7]\n",
        "        return np.array(nstate)\n",
        "\n",
        "\n",
        "    def rotate_corner_right(self, angle):\n",
        "        nstate = [item for item in self.state]\n",
        "        if angle == 90: \n",
        "            nstate[2] = nstate[2].increment_orient_one()\n",
        "            nstate[4] = nstate[4].increment_orient_one()\n",
        "            nstate[0] = nstate[0].increment_orient_two()\n",
        "            nstate[6] = nstate[6].increment_orient_two()\n",
        "            nstate[4], nstate[0], nstate[6], nstate[2] = nstate[0], nstate[2], nstate[4], nstate[6]  \n",
        "        elif angle == -90: \n",
        "            nstate[2] = nstate[2].increment_orient_one()\n",
        "            nstate[4] = nstate[4].increment_orient_one()\n",
        "            nstate[0] = nstate[0].increment_orient_two()\n",
        "            nstate[6] = nstate[6].increment_orient_two()\n",
        "            nstate[2], nstate[6], nstate[0], nstate[4] = nstate[0], nstate[2], nstate[4], nstate[6]\n",
        "        elif angle == 180: \n",
        "            nstate[6], nstate[4], nstate[2], nstate[0] = nstate[0], nstate[2], nstate[4], nstate[6]\n",
        "        return np.array(nstate)\n",
        "\n",
        "\n",
        "    def rotate_corner_left(self, angle):\n",
        "        nstate = [item for item in self.state]\n",
        "        if angle == 90: \n",
        "            nstate[1] = nstate[1].increment_orient_one()\n",
        "            nstate[7] = nstate[7].increment_orient_one()\n",
        "            nstate[4] = nstate[4].increment_orient_two()\n",
        "            nstate[5] = nstate[5].increment_orient_two()\n",
        "            nstate[5], nstate[1], nstate[7], nstate[3] = nstate[1], nstate[3], nstate[5], nstate[7]\n",
        "        elif angle == -90:\n",
        "            nstate[1] = nstate[1].increment_orient_one()\n",
        "            nstate[7] = nstate[7].increment_orient_one()\n",
        "            nstate[4] = nstate[4].increment_orient_two()\n",
        "            nstate[5] = nstate[5].increment_orient_two()\n",
        "            nstate[3], nstate[7], nstate[1], nstate[5] = nstate[1], nstate[3], nstate[5], nstate[7]\n",
        "        elif angle == 180: \n",
        "            nstate[7], nstate[5], nstate[3], nstate[1] = nstate[1], nstate[3], nstate[5], nstate[7]\n",
        "        return np.array(nstate)\n"
      ],
      "execution_count": 6,
      "outputs": []
    },
    {
      "cell_type": "code",
      "metadata": {
        "id": "j4rbEuOie7JA"
      },
      "source": [
        "class EdgeList:\n",
        "    \n",
        "    GOAL = np.array([WR, WB, WO, WG, RB, RG, OB, OG, YR, YB, YO, YG])\n",
        "    \n",
        "    __slots__ = ['state', 'hashing']\n",
        "    \n",
        "    def __init__(self, state):\n",
        "        self.state     = state\n",
        "        self.hashing   = self.hashing_number()\n",
        "        \n",
        "    def __str__(self):\n",
        "        return str(list(self.state))\n",
        "    \n",
        "    def __repr__(self):\n",
        "        return str(list(self.state))\n",
        "    \n",
        "    def __eq__(self, other):\n",
        "        return self.hashing == other.hashing\n",
        "        \n",
        "    def hashing_number(self):\n",
        "        ori = int(''.join((str(edge.orientation) for edge in self.state[:-1])), 2)\n",
        "        id = Permutation(*(edge.ID for edge in self.state)).lehmer(12)\n",
        "        return id*(2**11) + ori\n",
        "\n",
        "    def is_oriented(self):\n",
        "        for edge in self.state: \n",
        "            if edge.orientation != 0: return False\n",
        "        return True\n",
        "\n",
        "    \"\"\" Checks whether edges of layer E are located there \"\"\"\n",
        "    def edges_layer_E(self):\n",
        "        edges_E = EdgeList.GOAL[4], EdgeList.GOAL[5], EdgeList.GOAL[6], EdgeList.GOAL[7]\n",
        "        a = self.state[4] in edges_E\n",
        "        b = self.state[5] in edges_E\n",
        "        c = self.state[6] in edges_E\n",
        "        d = self.state[7] in edges_E\n",
        "        if a and b and c and d: return True\n",
        "        else: return False\n",
        "\n",
        "    \"\"\" Performs rotation of edge cubies by updating locations of cubies on list \"\"\"\n",
        "    def rotate_edges(self, move):\n",
        "        if \"U\" in move:\n",
        "            if \"'\" in move: new_state = self.rotate_edge_up(-90)\n",
        "            elif \"2\" in move: new_state = self.rotate_edge_up(180)\n",
        "            else: new_state = self.rotate_edge_up(90)\n",
        "        elif \"D\" in move:\n",
        "            if \"'\" in move: new_state = self.rotate_edge_down(-90)\n",
        "            elif \"2\" in move: new_state = self.rotate_edge_down(180)\n",
        "            else: new_state = self.rotate_edge_down(90)\n",
        "        elif \"F\" in move:\n",
        "            if \"'\" in move: new_state = self.rotate_edge_front(-90)\n",
        "            elif \"2\" in move: new_state = self.rotate_edge_front(180)\n",
        "            else: new_state = self.rotate_edge_front(90)\n",
        "        elif \"B\" in move:\n",
        "            if \"'\" in move: new_state = self.rotate_edge_back(-90)\n",
        "            elif \"2\" in move: new_state = self.rotate_edge_back(180)\n",
        "            else: new_state = self.rotate_edge_back(90)\n",
        "        elif \"R\" in move:\n",
        "            if \"'\" in move: new_state = self.rotate_edge_right(-90)\n",
        "            elif \"2\" in move: new_state = self.rotate_edge_right(180)\n",
        "            else: new_state = self.rotate_edge_right(90)\n",
        "        elif \"L\" in move:\n",
        "            if \"'\" in move: new_state = self.rotate_edge_left(-90)\n",
        "            elif \"2\" in move: new_state = self.rotate_edge_left(180)\n",
        "            else: new_state = self.rotate_edge_left(90)\n",
        "        return EdgeList(np.array(new_state))\n",
        "\n",
        "\n",
        "    \"\"\"\n",
        "    The next functions are responsible for rotating edge cubies according to the\n",
        "    face being rotated. The location of the affected cubies is updated on the list\n",
        "    of cubies, and their orientations are flipped when necessary.\n",
        "    \"\"\"\n",
        "\n",
        "    # Notice that all edges that appear in Up are in the first 4 places of the list\n",
        "    def rotate_edge_up(self, angle):\n",
        "        nstate = [item for item in self.state]\n",
        "        if angle == 90   : updates = np.array([nstate[1], nstate[2], nstate[3], nstate[0]])\n",
        "        elif angle == -90: updates = np.array([nstate[3], nstate[0], nstate[1], nstate[2]])\n",
        "        elif angle == 180: updates = np.array([nstate[2], nstate[3], nstate[0], nstate[1]])\n",
        "        return np.concatenate((updates, nstate[4:]))\n",
        "\n",
        "\n",
        "\n",
        "    # Notice that all edges that appear in DOWN are in the first 4 places of the list\n",
        "    def rotate_edge_down(self, angle):\n",
        "        nstate = [item for item in self.state]\n",
        "        if angle == 90   : updates = np.array([nstate[9], nstate[10], nstate[11], nstate[8]])\n",
        "        elif angle == -90: updates = np.array([nstate[11], nstate[8], nstate[9], nstate[10]])\n",
        "        elif angle == 180: updates = np.array([nstate[10], nstate[11], nstate[8], nstate[9]])\n",
        "        return np.concatenate((nstate[0:8], updates))\n",
        "\n",
        "\n",
        "\n",
        "    # Rotating Front or Back flip the orientation of all four edges in that face\n",
        "    # Notice that all edges that appear in Front are in indexes 0, 4, 5, 8\n",
        "    def rotate_edge_front(self, angle):\n",
        "        nstate = [item for item in self.state]\n",
        "        if angle != 180: \n",
        "            for i in [0, 4, 5, 8]: nstate[i] = nstate[i].change_orientation()\n",
        "        if angle == 90   : nstate[0], nstate[4], nstate[5], nstate[8] = nstate[5], nstate[0], nstate[8], nstate[4]  \n",
        "        elif angle == -90: nstate[0], nstate[4], nstate[5], nstate[8] = nstate[4], nstate[8], nstate[0], nstate[5]\n",
        "        elif angle == 180: nstate[0], nstate[4], nstate[5], nstate[8] = nstate[8], nstate[5], nstate[4], nstate[0]\n",
        "        return np.array(nstate)\n",
        "\n",
        "\n",
        "\n",
        "    # Notice that all edges that appear in Back are in indexes 2, 6, 7, 10\n",
        "    def rotate_edge_back(self, angle):\n",
        "        nstate = [item for item in self.state]\n",
        "        if angle != 180: \n",
        "            for i in [2, 6, 7, 10]: nstate[i] = nstate[i].change_orientation()\n",
        "        if angle == 90   : nstate[2], nstate[6], nstate[7], nstate[10] = nstate[7], nstate[2], nstate[10], nstate[6]  \n",
        "        elif angle == -90: nstate[2], nstate[6], nstate[7], nstate[10] = nstate[6], nstate[10], nstate[2], nstate[7]\n",
        "        elif angle == 180: nstate[2], nstate[6], nstate[7], nstate[10] = nstate[10], nstate[7], nstate[6], nstate[2]\n",
        "        return np.array(nstate)\n",
        "\n",
        "\n",
        "\n",
        "    # Notice that all edges that appear in Right are in indexes 1, 4, 6, 9\n",
        "    def rotate_edge_right(self, angle):\n",
        "        nstate = [item for item in self.state]\n",
        "        if angle == 90   : nstate[6], nstate[1], nstate[9], nstate[4] = nstate[1], nstate[4], nstate[6], nstate[9]  \n",
        "        elif angle == -90: nstate[4], nstate[9], nstate[1], nstate[6] = nstate[1], nstate[4], nstate[6], nstate[9]\n",
        "        elif angle == 180: nstate[9], nstate[6], nstate[4], nstate[1] = nstate[1], nstate[4], nstate[6], nstate[9]\n",
        "        return np.array(nstate)\n",
        "\n",
        "\n",
        "\n",
        "    # Notice that all edges that appear in Right are in indexes 3, 5, 7, 11\n",
        "    def rotate_edge_left(self, angle):\n",
        "        nstate = [item for item in self.state]\n",
        "        if angle == 90   : nstate[7], nstate[3], nstate[11], nstate[5] = nstate[3], nstate[5], nstate[7], nstate[11]  \n",
        "        elif angle == -90: nstate[5], nstate[11], nstate[3], nstate[7] = nstate[3], nstate[5], nstate[7], nstate[11]\n",
        "        elif angle == 180: nstate[11], nstate[7], nstate[5], nstate[3] = nstate[3], nstate[5], nstate[7], nstate[11]\n",
        "        return np.array(nstate)\n"
      ],
      "execution_count": 7,
      "outputs": []
    },
    {
      "cell_type": "code",
      "source": [
        "wrb = CornerCubie(1)    # Up-Front-Right\n",
        "wrg = CornerCubie(2)    # Up-Front-Left\n",
        "yrb = CornerCubie(3)    # Down-Front-Right\n",
        "yrg = CornerCubie(4)    # Down-Front-Left\n",
        "wob = CornerCubie(5)    # Up-Back-Right\n",
        "wog = CornerCubie(6)    # Up-Back-Left\n",
        "yob = CornerCubie(7)    # Down-Back-Right\n",
        "yog = CornerCubie(8)    # Down-Back-Left\n",
        "\n",
        "\n",
        "wr = EdgeCubie(1)       # Up-Front\n",
        "wb = EdgeCubie(2)       # Up-Right\n",
        "wo = EdgeCubie(3)       # Up-Back\n",
        "wg = EdgeCubie(4)       # Up-Left\n",
        "rb = EdgeCubie(5)       # Front-Right\n",
        "rg = EdgeCubie(6)       # Front-Left\n",
        "ob = EdgeCubie(7)       # Back-Right\n",
        "og = EdgeCubie(8)       # Back-Left\n",
        "yr = EdgeCubie(9)       # Down-Front\n",
        "yb = EdgeCubie(10)      # Down-Right\n",
        "yo = EdgeCubie(11)      # Down-Back\n",
        "yg = EdgeCubie(12)      # Down-Left\n",
        "\n",
        "\n",
        "corner_state = CornerList(np.array([wrb, wrg, yrb, yrg, wob, wog, yob, yog]))\n",
        "edge_state = EdgeList(np.array([wr, wb, wo, wg, rb, rg, ob, og, yr, yb, yo, yg]))"
      ],
      "metadata": {
        "id": "P3v1CylGNdJy"
      },
      "execution_count": 8,
      "outputs": []
    },
    {
      "cell_type": "code",
      "metadata": {
        "id": "wk0kWyV-oFq7"
      },
      "source": [
        "class CubeNode:\n",
        "\n",
        "    __slots__ = ['state', 'gval', 'parent', 'parentMove', 'fval']\n",
        "\n",
        "    GOAL = [CornerList(np.array([WRB, WRG, YRB, YRG, WOB, WOG, YOB, YOG])), \n",
        "            EdgeList(np.array([WR, WB, WO, WG, RB, RG, OB, OG, YR, YB, YO, YG]))]\n",
        "\n",
        "    def __init__(self, state, parent = None, move = None, gval = 0):\n",
        "        self.state      = state\n",
        "        self.parent     = parent\n",
        "        self.parentMove = move\n",
        "        self.gval       = gval\n",
        "        self.fval       = gval + self.misplaced_tiles()\n",
        "\n",
        "    def __eq__(self, other):\n",
        "        return self.state[0] == other.state[0] and self.state[1] == other.state[1]\n",
        "\n",
        "    def __hash__(self):\n",
        "        return hash((self.state[0].hashing, self.state[1].hashing))\n",
        "\n",
        "    def __str__(self):\n",
        "        return str([str(self.state[0]), str(self.state[1])])\n",
        "\n",
        "    def __repr__(self):\n",
        "        return str([str(self.state[0]), str(self.state[1])])\n",
        "\n",
        "    def __lt__(self, other):\n",
        "        return self.fval < other.fval\n",
        "\n",
        "    def rotate(self, move):\n",
        "        corners = self.state[0] \n",
        "        edges   = self.state[1] \n",
        "        return CubeNode([corners.rotate_corners(move), edges.rotate_edges(move)], parent=self, move=move, gval=self.gval+1)\n",
        "    \n",
        "    def misplaced_tiles(self): \n",
        "        misplaced = 0\n",
        "        for i in range(len(self.state[1].state)):\n",
        "            edge = self.state[1].state[i]\n",
        "            if i != (edge.ID - 1): misplaced += 1\n",
        "        return misplaced/4\n",
        "\n",
        "    def phase_1_test(self):\n",
        "        if self.state[1].is_oriented(): return True\n",
        "        else: return False\n",
        "    \n",
        "    def phase_2_test(self):\n",
        "        if self.state[0].is_oriented() and self.state[1].edges_layer_E(): return True\n",
        "        else: return False\n",
        " \n",
        "    def goal_test(self):\n",
        "        corners = self.state[0] \n",
        "        edges   = self.state[1] \n",
        "        if corners == CubeNode.GOAL[0] and edges == CubeNode.GOAL[1]: return True\n",
        "        else: return False"
      ],
      "execution_count": 9,
      "outputs": []
    },
    {
      "cell_type": "markdown",
      "metadata": {
        "id": "BiSpnmthfe5C"
      },
      "source": [
        "# Thistlethwaite’s Algorithm"
      ]
    },
    {
      "cell_type": "markdown",
      "source": [
        "## Helper Functions"
      ],
      "metadata": {
        "id": "utisvZFOycOq"
      }
    },
    {
      "cell_type": "code",
      "metadata": {
        "id": "Kz6i1jd87Fip"
      },
      "source": [
        "'''\n",
        "This function takes the solved cube and shuffles it to generate instances of the cube that we can try to\n",
        "solve using the developed solver algorithm. I chose to generate instances of the cube by shuffling it using\n",
        "the allowed moves rather than randomly choosing a state because not all cube states generated randomly are\n",
        "solvable. Shuffling the cube using the allowed moves guarantees that the cube is solvable.\n",
        "'''\n",
        "def shuffle(goal, min, max):\n",
        "    possibleMoves = [\"U\", \"U'\", \"U2\", \"D\", \"D'\", \"D2\", \"F\", \"F'\", \"F2\", \"B\", \"B'\", \"B2\", \"R\", \"R'\", \"R2\", \"L\", \"L'\", \"L2\"]\n",
        "    moves = np.random.choice(possibleMoves, np.random.randint(min, max, 1))\n",
        "    actualMoves = []\n",
        "    for move in moves: \n",
        "        if moveChecks(goal, move): \n",
        "            goal = goal.rotate(move)\n",
        "            actualMoves.append(move)\n",
        "    goal.gval = 0\n",
        "    goal.parent = None\n",
        "    goal.parentMove = None\n",
        "    return goal, actualMoves"
      ],
      "execution_count": 10,
      "outputs": []
    },
    {
      "cell_type": "code",
      "metadata": {
        "id": "MgJH0rxfn5VE"
      },
      "source": [
        "'''\n",
        "This function presents a series of if then statements for checking whether the current move would\n",
        "conflict with other moves done. For instance, if the previous move (move that generated current node)\n",
        "was U and the current move (move to be performed by node) is U, then this sequence of moves is the\n",
        "same as performing a half twist of U (aka U2 move), which was done before. If such a situation happens,\n",
        "this function returns False so that we can avoid generating a node again. I use this function under the\n",
        "assumption that generating a node again for checking it on the body of the function costs more memory\n",
        "and time compared to performing this series of if-then checks.\n",
        "'''\n",
        "def moveChecks(node, move):\n",
        "    if node.parent:\n",
        "        previousMove = node.parentMove                                              # Examples:\n",
        "        if previousMove == move: return False                                       # [U, U] = U2\n",
        "        if '2' in previousMove and previousMove[0] == move[0]: return False         # [U2, U] = U'; [U2, U'] = U; [U2, U2] = no move\n",
        "        if '2' in move and move[0] == previousMove[0]: return False                 # [U, U2] = U'; [U', U2] = U; [U2, U2] = no move\n",
        "        if \"'\" in previousMove and previousMove[0] == move[0]: return False         # [U', U] = no move\n",
        "        if \"'\" in move and move[0] == previousMove[0]: return False                 # [U, U'] = no move\n",
        "        return True\n",
        "    else: return True"
      ],
      "execution_count": 11,
      "outputs": []
    },
    {
      "cell_type": "markdown",
      "metadata": {
        "id": "aETVmBwa3FKZ"
      },
      "source": [
        "## Phase 1\n",
        "\n",
        "Given any scrambeled cube, phase 1 searches for a state where all edges of the cube are correctly oriented. In other words, phase 1 returns a node where its edges have an orientation 0. Since only quarter turns of the front and back faces can change the orientation of edges, we can find a solution for the cube ignoring front and back quarter turns if the cube has all edges correctly oriented. Thus, finding a goal for phase 1 allows us to search for a solution, starting from that phase 1 goal node, without considering F, F', B, and B'."
      ]
    },
    {
      "cell_type": "code",
      "metadata": {
        "id": "tVDvCeor12RV"
      },
      "source": [
        "'''\n",
        "A* SEARCH USING NUMBER OF MISPLACED CUBIES AS HEURISTIC\n",
        "\n",
        "This function implements the first phase of the Rubik's cube solver -- given a scrambeled cube, it searches\n",
        "for a state where all edges of the cube are correctly oriented (i.e., all edges have orientation 0). If we\n",
        "find such state, then we will be able to reduce the branching factor by four by removing moves that would\n",
        "alter the orientation of edges (removing moves F, F', B, B'), which is what phase 2 does.\n",
        "'''\n",
        "def phase1(node):\n",
        "    frontier, explored = PriorityQueue(), {node}                    # initializing frontier queue and explored set\n",
        "    if node.phase_1_test(): return node                             # check whether test of phase 1 is complete\n",
        "    frontier.put(node)                                              # putting initial node to frontier\n",
        "    moves = [\"U\", \"U'\", \"U2\", \"D\", \"D'\", \"D2\", \"F\", \"F'\", \"F2\",     # saves all possible moves to a list\n",
        "             \"B\", \"B'\", \"B2\", \"R\", \"R'\", \"R2\", \"L\", \"L'\", \"L2\"]\n",
        "\n",
        "    while not frontier.empty():                                     # while frontier is not empty\n",
        "        node = frontier.get()                                       # pop best node from priority queue\n",
        "        for move in moves:\n",
        "            if moveChecks(node, move):                              # checks if move doesn't make state return to what it was before\n",
        "                child = node.rotate(move)                           # generate a new child using move\n",
        "                if child.phase_1_test(): return child               # return child if all edges are oriented\n",
        "                if child in explored or child.gval > 7: continue    # if child in explored or too far away from node, continue\n",
        "                explored.add(child)                                 # add child to explored set\n",
        "                frontier.put(child)                                 # put child in frontier according to fval"
      ],
      "execution_count": 12,
      "outputs": []
    },
    {
      "cell_type": "markdown",
      "metadata": {
        "id": "H9tosD4v3md3"
      },
      "source": [
        "## Phase 2\n",
        "\n",
        "This phase is responsible for finding a state where all corners are correctly oriented and the edges of the E layer are on the E layer. Since quarter turns of the front, back, right, and left faces change the orientation of a corner, but we don't have quarter turns of the front and the back faces on this step, only R, R', L, and L' can change a corner's orientation. Furthermore, rotation of up and down faces cannot change the edges that are in the E slice. Thus, we need to make the edges whose home are in the E layer get there still on this phase."
      ]
    },
    {
      "cell_type": "code",
      "metadata": {
        "id": "WGo4VgIE17oo"
      },
      "source": [
        "\"\"\"\n",
        "This function generates a list of all configurations of corner cubies that obey the \n",
        "goal of phase 2 -- all corners are corrently oriented. It uses breadth-first search to\n",
        "generate the list as the algorithm is complete.\n",
        "\"\"\"\n",
        "def generateP2CornerGoals(goalNode):\n",
        "    frontier, explored = deque([goalNode.state[0]]), {goalNode.state[0]}\n",
        "    moves = [\"U\", \"U'\", \"U2\", \"D\", \"D'\", \"D2\", \"F2\", \"B2\", \"R2\", \"L2\"]      # only moves that do not change corner orientation\n",
        "    while frontier:\n",
        "        cornerNode = frontier.popleft()                                     # pop oldest node from frontier\n",
        "        for move in moves:                                                  # iterate through all possible moves\n",
        "            cornerChild = cornerNode.rotate_corners(move)                   # generate corner using move\n",
        "            if cornerChild in explored: continue                            # check whether corner configuration was already explored\n",
        "            explored.add(cornerChild)                                       # add configuration to explroed set\n",
        "            frontier.append(cornerChild)                                    # add configuration to frontier for expanding later\n",
        "    return list(explored)                                                   # return list of all configurations generated thay obey phase 2 goal\n",
        "\n",
        "\n",
        "\n",
        "\"\"\"\n",
        "Using the goals generated by the function above, this function generates a pattern\n",
        "database for the corners.\n",
        "\"\"\"\n",
        "def createP2PatternDB(goalList):\n",
        "    frontier, explored = deque(goalList), {cornerNode: 0 for cornerNode in goalList}\n",
        "    moves = [\"F2\", \"B2\", \"U\", \"U'\", \"U2\", \"D\", \"D'\", \"D2\", \"R\", \"R'\", \"R2\", \"L\", \"L'\", \"L2\"]\n",
        "    while frontier:\n",
        "        cornerNode = frontier.popleft()\n",
        "        if explored[cornerNode] > 2: return explored\n",
        "        for move in moves:\n",
        "            cornerChild = cornerNode.rotate_corners(move)\n",
        "            if cornerChild in explored: continue\n",
        "            explored[cornerChild] = explored[cornerNode] + 1\n",
        "            frontier.append(cornerChild)\n",
        "    \n",
        "\n",
        "\n",
        "\n",
        "# All corners are oriented and the four edges (FR, FL, BR, BL) are in the E slice (layer between up and down)\n",
        "def phase2(node):\n",
        "    frontier, explored = PriorityQueue(), {node}                        # initializing objects\n",
        "    if node.phase_2_test(): return node                                 # check if phase 2 test is successful\n",
        "    frontier.put(node)                                                  # putting initial node to frontier\n",
        "    iGval = node.gval\n",
        "    moves = [\"F2\", \"B2\", \"U\", \"U'\", \"U2\", \"D\", \"D'\",                    # saves moves to a list (remove F and B single turns)\n",
        "             \"D2\", \"R\", \"R'\", \"R2\", \"L\", \"L'\", \"L2\"]\n",
        "    \n",
        "    while not frontier.empty():                                         # while frontier is not empty\n",
        "        node = frontier.get()                                           # pop best node from priority queue\n",
        "        for move in moves:\n",
        "            if moveChecks(node, move):\n",
        "                child = node.rotate(move)                               # generate a new child using given move\n",
        "                if child.phase_2_test(): return child                   # if both conditions are true, return child\n",
        "                if child in explored or child.gval>iGval+10: continue   # if child in explored or too far away from node, continue\n",
        "                if child.state[0] in phase2DB:\n",
        "                    child.fval = child.gval + phase2DB[child.state[0]]\n",
        "                else: child.fval = child.gval + 3\n",
        "                explored.add(child)                                     # add child to explored\n",
        "                frontier.put(child)                                     # put child in frontier according to fval"
      ],
      "execution_count": 13,
      "outputs": []
    },
    {
      "cell_type": "markdown",
      "metadata": {
        "id": "ffosccrxz3mY"
      },
      "source": [
        "## Phase 3\n",
        "\n",
        "This phase is responsible for finding a state where the cube can be solved using only half twists. Thus, we need to find a state where all edges are on their correct layer since half turns do not change edges of layer, but only permute edges on their current layer. Furthermore, all corners need to be on their correct orbit, which means that they can be moved to their correct position using only half turns. "
      ]
    },
    {
      "cell_type": "code",
      "metadata": {
        "id": "h6yqM06xmuqi"
      },
      "source": [
        "\"\"\"\n",
        "Generating all possible corners configurations that can be achieved from the goal using\n",
        "only half turns using breadth-first search\n",
        "\"\"\"\n",
        "def generateP3CornerGoals(goal):\n",
        "    frontier, explored = deque([goal.state[0]]), {goal.state[0]}\n",
        "    moves = [\"U2\", \"D2\", \"F2\", \"B2\", \"R2\", \"L2\"]\n",
        "    while frontier:                                         \n",
        "        cornerNode = frontier.popleft()                         # pop oldest node from frontier\n",
        "        for move in moves:                                      # iterate through every possible move\n",
        "            cornerChild = cornerNode.rotate_corners(move)        # generate child node by rotating parent according to move\n",
        "            if cornerChild in explored: continue                # if state was seen before, continue \n",
        "            explored.add(cornerChild)                           # add child to explored dictionary\n",
        "            frontier.append(cornerChild)                        # add child to frontier so it can be expanded\n",
        "    return explored                                             # return pattern DB\n",
        "\n",
        "\n",
        "\n",
        "\"\"\"\n",
        "Creates pattern database for states of phase 3. It uses BFS for generating the \n",
        "database, and the allowed moves are all the ones allowed in phase 3.\n",
        "\"\"\"\n",
        "def createP3PatternDB(goalList):\n",
        "    frontier, explored = deque(goalList), {cornerNode: 0 for cornerNode in goalList}\n",
        "    moves = [\"R2\", \"L2\", \"F2\", \"B2\", \"U\", \"U'\", \"U2\", \"D\", \"D'\", \"D2\"]\n",
        "    while frontier:\n",
        "        cornerNode = frontier.popleft()\n",
        "        for move in moves:\n",
        "            cornerChild = cornerNode.rotate_corners(move)\n",
        "            if cornerChild in explored: continue\n",
        "            explored[cornerChild] = explored[cornerNode] + 1\n",
        "            frontier.append(cornerChild)\n",
        "    return explored\n",
        "\n",
        "\n",
        "\n",
        "\n",
        "\"\"\"\n",
        "This function implements phase 3 of the Rubik's cube solver. It takes a goal from phase 2 (all corners are\n",
        "oriented and edges of the E layer are in that layer) and searches for nodes where all edges are on their\n",
        "home layers, the corners are on their correct orbits, and the cube has overall even parity. \n",
        "\"\"\"\n",
        "def phase3(node):\n",
        "    frontier, explored = PriorityQueue(), {}                            # initializing objects\n",
        "    if node in phase4DB: return node                                    # check if phase 3 test is successful\n",
        "    frontier.put(node)                                                  # putting initial node to frontier\n",
        "    iGval = node.gval                                                   # saves initial node's gval for future reference\n",
        "    moves = [\"R2\", \"L2\", \"F2\", \"B2\", \"U\",                               # saves moves to a list (removes R and L quater turns)\n",
        "             \"U'\", \"U2\", \"D\", \"D'\", \"D2\"]\n",
        "    \n",
        "    while not frontier.empty():                                         # while frontier is not empty\n",
        "        node = frontier.get()                                           # pop best node from priority queue\n",
        "        for move in moves:\n",
        "            if moveChecks(node, move):                                  # check if move doesn't conflict with previous\n",
        "                child = node.rotate(move)                               # generate a new child using given move\n",
        "                if child in phase4DB: return child                      # if all four conditions are true, return child\n",
        "                if child in explored or child.gval>iGval+14: continue   # if child in explored or too far away from node, continue\n",
        "                child.fval = child.gval + phase3DB[child.state[0]]\n",
        "                explored[child] = True                                  # add child to explored\n",
        "                frontier.put(child)                                     # put child in frontier according to fval"
      ],
      "execution_count": 14,
      "outputs": []
    },
    {
      "cell_type": "markdown",
      "metadata": {
        "id": "0W4C48DBzoUG"
      },
      "source": [
        "## Phase 4\n",
        "\n",
        "This phase is responsible for solving the cube. Since the starting node on this phase has all edges correctly oriented and on their correct layer, and it also has all corners correctly oriented and on their correct orbit, this phase requires only quarter turns to reach the solved state. In order to make exploration even faster, I created a database that holds the exact solution from any instance of the cube in phase 4 to the solved cube."
      ]
    },
    {
      "cell_type": "code",
      "metadata": {
        "id": "ZEGM2shHUx6e"
      },
      "source": [
        "\"\"\"\n",
        "This functions creates a database for phase 4 of the algorithm. It starts at the solved cube and \n",
        "uses breadth first search to generate EVERY possible cube state by using only the moves allowed in phase\n",
        "4 of the algorithm (half turns). The breadth first approach ensures that the distances entered in the DB\n",
        "are the minimum amount of moves required to reach the goal state from the given configuration. The results\n",
        "here are called by the phase4 function.\n",
        "\"\"\"\n",
        "def createP4DB(goal):\n",
        "    frontier, explored = deque([goal]), {goal: goal}            # initializing objects\n",
        "    moves = [\"U2\", \"D2\", \"F2\", \"B2\", \"R2\", \"L2\"]                # saving possible moves to a list\n",
        "    while frontier:                                         \n",
        "        node = frontier.popleft()                               # pop oldest node from frontier\n",
        "        for move in moves:                                      # iterate through every possible move\n",
        "            child = node.rotate(move)                           # create child node by rotating parent according to move\n",
        "            if child in explored: continue                      # if state was seen before, continue as this is a worst path to state\n",
        "            explored[child] = child                             # add child to explored dictionary\n",
        "            frontier.append(child)                              # add child to frontier so it can be expanded\n",
        "    return explored                                             # return pattern DB\n",
        "\n",
        "\n",
        "\n",
        "\"\"\"\n",
        "Since the number of possible states in this phase isn't large, we could generate and store all paths\n",
        "to the goal. Thus, this function only needs to take the initial node of phase 4 for two things: (1) to\n",
        "retrieve the best path from that node to the goal, and to retrieve the path made to get from the very first\n",
        "initial state to the current node.\n",
        "\"\"\"\n",
        "def phase4(node):\n",
        "    nodeDB = phase4DB[node]                        # same state as 'node' but class instance obtained from the database\n",
        "    finalSteps = []                                # list will be inverted (start from the goal and go to nodeDB)\n",
        "    while nodeDB.parent:                    \n",
        "        finalSteps.append(nodeDB.parentMove)       # append move from parent to current node to step list\n",
        "        nodeDB = nodeDB.parent                     # get parent of node\n",
        "    for move in finalSteps[::-1]:                  # rotate node according to list from phase 4 DB to get complete route to goal\n",
        "        node = node.rotate(move)     \n",
        "    del finalSteps                                 # delete steps list to save memory\n",
        "    return node                                    # return solved cube"
      ],
      "execution_count": 15,
      "outputs": []
    },
    {
      "cell_type": "markdown",
      "metadata": {
        "id": "OBamcv2o0ffj"
      },
      "source": [
        "## Solver function"
      ]
    },
    {
      "cell_type": "code",
      "metadata": {
        "id": "KIPuEYq0ny-F"
      },
      "source": [
        "\"\"\"\n",
        "This function takes the solution node and gets the solution steps by moving\n",
        "up the tree by getting the attribute node.parentMove\n",
        "\"\"\"\n",
        "def get_steps(final_node):\n",
        "    node = final_node\n",
        "    steps = []\n",
        "    while node.parent:\n",
        "        steps.append(node.parentMove)\n",
        "        node = node.parent\n",
        "    return steps[::-1]\n",
        "\n",
        "\n",
        "\"\"\"\n",
        "This function takes a shuffled node and searches for the solution, executing all\n",
        "four phases of the algorithm. It returns the final node and the steps taken for\n",
        "retrieving the solution.\n",
        "\"\"\"\n",
        "def solve_cube(shuffled_node):\n",
        "    print(\"Executing phase 1\")\n",
        "    current_node = phase1(shuffled_node)\n",
        "    print(\"Executing phase 2\")\n",
        "    current_node = phase2(current_node)\n",
        "    print(\"Executing phase 3\")\n",
        "    current_node = phase3(current_node)\n",
        "    print(\"Executing phase 4\")\n",
        "    final_node  = phase4(current_node)\n",
        "    if final_node.goal_test(): print(\"Cube is solved!!\")\n",
        "    steps = get_steps(final_node)\n",
        "    return final_node, steps"
      ],
      "execution_count": 16,
      "outputs": []
    },
    {
      "cell_type": "markdown",
      "metadata": {
        "id": "xohKrYkXBP35"
      },
      "source": [
        "# Execution"
      ]
    },
    {
      "cell_type": "code",
      "metadata": {
        "id": "2AD09HU8Fe5H"
      },
      "source": [
        "# Generate Solution Node for shuffling\n",
        "\n",
        "edge_state    = EdgeList(np.array([wr, wb, wo, wg, rb, rg, ob, og, yr, yb, yo, yg]))\n",
        "corner_state  = CornerList(np.array([wrb, wrg, yrb, yrg, wob, wog, yob, yog]))\n",
        "goal          = CubeNode([corner_state, edge_state])"
      ],
      "execution_count": 17,
      "outputs": []
    },
    {
      "cell_type": "code",
      "metadata": {
        "id": "OqFBBL9S7kxJ"
      },
      "source": [
        "# Creates the pattern databases\n",
        "\n",
        "p2_corners_goal = generateP2CornerGoals(goal)            # creates phase 2 corner goals \n",
        "phase2DB      = createP2PatternDB(p2_corners_goal)       # creates phase 2 pattern DB\n",
        "del p2_corners_goal\n",
        "\n",
        "p3_corners_goal = generateP3CornerGoals(goal)            # creates phase 3 corner goals\n",
        "phase3DB      = createP3PatternDB(p3_corners_goal)       # creates phase 3 pattern DB\n",
        "del p3_corners_goal\n",
        "\n",
        "phase4DB      = createP4DB(goal)                         # creates database for all solutions to phase 4"
      ],
      "execution_count": 18,
      "outputs": []
    },
    {
      "cell_type": "code",
      "metadata": {
        "colab": {
          "base_uri": "https://localhost:8080/"
        },
        "id": "ooJYUGqssh7B",
        "outputId": "f2207e9b-918d-4a2f-c779-d6c8411b3950"
      },
      "source": [
        " # Solves a cube\n",
        "\n",
        "initial_node, shuffling_moves = shuffle(goal, 2, 6)\n",
        "solution_node, solution_steps = solve_cube(initial_node)\n",
        "\n",
        "print()\n",
        "print(\"Number of moves: \", solution_node.gval)\n",
        "print(\"Shuffling moves: \", shuffling_moves)\n",
        "print(\"Solution moves : \", solution_steps)"
      ],
      "execution_count": 22,
      "outputs": [
        {
          "output_type": "stream",
          "name": "stdout",
          "text": [
            "Executing phase 1\n",
            "Executing phase 2\n",
            "Executing phase 3\n",
            "Executing phase 4\n",
            "\n",
            "Number of moves:  27\n",
            "Shuffling moves:  ['F', 'U']\n",
            "Solution moves :  [\"U'\", 'F', 'R', \"U'\", 'L2', 'U', 'R', 'D2', 'R2', \"U'\", 'B2', \"U'\", 'L2', 'U', 'L2', 'U', 'F2', 'U2', 'F2', 'U2', 'R2', 'B2', 'R2', 'U2', 'F2', 'U2', 'B2']\n"
          ]
        }
      ]
    },
    {
      "cell_type": "markdown",
      "metadata": {
        "id": "dDQ0uBnvr7Sh"
      },
      "source": [
        "## Solution Analysis"
      ]
    },
    {
      "cell_type": "code",
      "metadata": {
        "id": "AZ2LRrkrsamd"
      },
      "source": [
        "'''\n",
        "This function solves multiple instances of Rubik's cube. It returns the number of moves\n",
        "used for shuffling the cube, the set of steps of the solutions, and the time that it\n",
        "took the algorithm for finding a solution.\n",
        "'''\n",
        "def solve_multiple_cubes(iterations, min, max):\n",
        "    number_moves, solutions, timing = [], [], []\n",
        "    for i in range(iterations):\n",
        "        initial_node, shuffling_moves = shuffle(goal, min, max)       # gets random instance of cube to solve and moves to get there\n",
        "        number_moves.append(len(shuffling_moves))                     # append number of moves to list\n",
        "        print(f\"SOLVING CUBE {i+1}\")\n",
        "        start = time.time()                                           # starts recording time to solve cube\n",
        "        solutions.append(solve_cube(initial_node)[1])                 # append list of moves of solution\n",
        "        end = time.time()                                             # ends recording time to solve cube\n",
        "        timing.append(end - start)                                    # gets time needed to solve instance of cube and adds to list\n",
        "        clear_output(True)\n",
        "    return number_moves, solutions, timing                            # returns list of variables for graphs"
      ],
      "execution_count": null,
      "outputs": []
    },
    {
      "cell_type": "code",
      "metadata": {
        "colab": {
          "base_uri": "https://localhost:8080/"
        },
        "id": "IyZKI7o_tbEs",
        "outputId": "8113925f-07f7-4881-f6fa-b42face91711"
      },
      "source": [
        "# Generates lists for evaluating performance of algorithms\n",
        "\n",
        "moves_list1, solution_lists1, time_to_solve1 = solve_multiple_cubes(70, 2, 8)    # range 1\n",
        "moves_list2, solution_lists2, time_to_solve2 = solve_multiple_cubes(30, 8, 14)   # range 2\n",
        "\n",
        "solution_depth1 = [len(lst) for lst in solution_lists1]\n",
        "solution_depth2 = [len(lst) for lst in solution_lists2]"
      ],
      "execution_count": null,
      "outputs": [
        {
          "output_type": "stream",
          "name": "stdout",
          "text": [
            "SOLVING CUBE 30\n",
            "Executing phase 1\n",
            "Executing phase 2\n",
            "Executing phase 3\n",
            "Executing phase 4\n"
          ]
        }
      ]
    },
    {
      "cell_type": "code",
      "metadata": {
        "id": "PETryNmSewzf"
      },
      "source": [
        "overall_moves = np.asarray(moves_list1 + moves_list2)\n",
        "overall_sol_depth = np.asarray(solution_depth1 + solution_depth2)\n",
        "overall_time  = np.asarray(time_to_solve1 + time_to_solve2)\n",
        "\n",
        "#np.save(\"moves\", overallMoves)\n",
        "#np.save(\"depth\", overallSolDepth)\n",
        "#np.save(\"time\", overallTime)"
      ],
      "execution_count": null,
      "outputs": []
    },
    {
      "cell_type": "code",
      "source": [
        "import seaborn as sns\n",
        "sns.scatterplot(x = overall_moves + np.random.normal(0, 0.05, overall_moves.shape), \n",
        "                y = overall_sol_depth + np.random.normal(0, 0.05, overall_sol_depth.shape), \n",
        "                marker=\"o\", color=\"navy\", alpha=0.3)\n",
        "\n",
        "plt.title(\"Size of solution path per Number of shuffles\", fontsize = 14)\n",
        "plt.xlabel(\"Number of shuffles\")\n",
        "plt.ylabel(\"Size of solution path\")\n",
        "plt.grid(ls=\":\")\n",
        "plt.show()"
      ],
      "metadata": {
        "colab": {
          "base_uri": "https://localhost:8080/",
          "height": 296
        },
        "id": "dcDHgkna9cdU",
        "outputId": "12f1c442-545e-49d6-da3b-e872e1321856"
      },
      "execution_count": null,
      "outputs": [
        {
          "output_type": "display_data",
          "data": {
            "text/plain": [
              "<Figure size 432x288 with 1 Axes>"
            ],
            "image/png": "[encoded data removed]"
          },
          "metadata": {
            "needs_background": "light"
          }
        }
      ]
    },
    {
      "cell_type": "code",
      "metadata": {
        "colab": {
          "base_uri": "https://localhost:8080/",
          "height": 296
        },
        "id": "0xSKzEyKfdkc",
        "outputId": "95533d14-a561-41ca-97fd-4d3b0c74bf79"
      },
      "source": [
        "sns.scatterplot(x = overall_moves + np.random.normal(0, 0.05, overall_moves.shape), \n",
        "                y = overall_time + + np.random.normal(0, 0.5, overall_time.shape), \n",
        "                marker=\"o\", color=\"coral\", alpha=0.6)\n",
        "                \n",
        "plt.title(\"Search time per Number of shuffles\", fontsize = 14)\n",
        "plt.ylabel(\"Search time (seconds)\")\n",
        "plt.xlabel(\"Number of shuffles\")\n",
        "plt.grid(ls=\":\")\n",
        "plt.show()"
      ],
      "execution_count": null,
      "outputs": [
        {
          "output_type": "display_data",
          "data": {
            "text/plain": [
              "<Figure size 432x288 with 1 Axes>"
            ],
            "image/png": "[encoded data removed]"
          },
          "metadata": {
            "needs_background": "light"
          }
        }
      ]
    },
    {
      "cell_type": "code",
      "metadata": {
        "colab": {
          "base_uri": "https://localhost:8080/",
          "height": 296
        },
        "id": "NhVur4DlRjrk",
        "outputId": "c713f50d-e973-4cf7-fadc-79817f296a9e"
      },
      "source": [
        "sns.scatterplot(x = overall_sol_depth + np.random.normal(0, 0.1, overall_sol_depth.shape), \n",
        "                y = overall_time + np.random.normal(0, 0.5, overall_time.shape), \n",
        "                marker=\"o\", color=\"mediumpurple\", alpha=0.4)\n",
        "\n",
        "plt.title(\"Search time per Size of solution path\", fontsize = 14)\n",
        "plt.ylabel(\"Search time (seconds)\")\n",
        "plt.xlabel(\"Size of solution path\")\n",
        "plt.grid(ls=\":\")\n",
        "plt.show()"
      ],
      "execution_count": null,
      "outputs": [
        {
          "output_type": "display_data",
          "data": {
            "text/plain": [
              "<Figure size 432x288 with 1 Axes>"
            ],
            "image/png": "[encoded data removed]"
          },
          "metadata": {
            "needs_background": "light"
          }
        }
      ]
    }
  ]
}